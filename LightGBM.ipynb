{
 "cells": [
  {
   "cell_type": "markdown",
   "metadata": {
    "application/vnd.databricks.v1+cell": {
     "cellMetadata": {
      "byteLimit": 2048000,
      "rowLimit": 10000
     },
     "inputWidgets": {},
     "nuid": "554cdb78-6492-4009-8ced-3850315bc7b3",
     "showTitle": false,
     "title": ""
    }
   },
   "source": [
    "# Import libraries and define globals"
   ]
  },
  {
   "cell_type": "code",
   "execution_count": null,
   "metadata": {
    "application/vnd.databricks.v1+cell": {
     "cellMetadata": {
      "byteLimit": 2048000,
      "rowLimit": 10000
     },
     "inputWidgets": {},
     "nuid": "9b68a678-4b38-4597-bffa-0d37001bbae3",
     "showTitle": false,
     "title": ""
    }
   },
   "outputs": [],
   "source": [
    "%pip install lightgbm pyrosm networkx tqdm contextily folium"
   ]
  },
  {
   "cell_type": "code",
   "execution_count": null,
   "metadata": {
    "application/vnd.databricks.v1+cell": {
     "cellMetadata": {
      "byteLimit": 2048000,
      "rowLimit": 10000
     },
     "inputWidgets": {},
     "nuid": "7334fe4c-cf68-4141-b7ec-bd11bc22ae1b",
     "showTitle": false,
     "title": ""
    }
   },
   "outputs": [],
   "source": [
    "from collections import defaultdict\n",
    "import os\n",
    "import pickle\n",
    "import random\n",
    "\n",
    "import boto3\n",
    "import folium\n",
    "import matplotlib.pyplot as plt\n",
    "import lightgbm as lgb\n",
    "import numpy as np\n",
    "import pandas as pd\n",
    "import plotly.graph_objs as go\n",
    "import pyrosm\n",
    "from sklearn.metrics import mean_squared_error\n",
    "from tqdm import tqdm"
   ]
  },
  {
   "cell_type": "code",
   "execution_count": null,
   "metadata": {
    "application/vnd.databricks.v1+cell": {
     "cellMetadata": {
      "byteLimit": 2048000,
      "rowLimit": 10000
     },
     "inputWidgets": {},
     "nuid": "5601a8fb-1f67-4825-9fc3-25795253374c",
     "showTitle": false,
     "title": ""
    }
   },
   "outputs": [],
   "source": [
    "import warnings\n",
    "\n",
    "warnings.filterwarnings(\"ignore\", category=RuntimeWarning)"
   ]
  },
  {
   "cell_type": "code",
   "execution_count": null,
   "metadata": {
    "application/vnd.databricks.v1+cell": {
     "cellMetadata": {
      "byteLimit": 2048000,
      "rowLimit": 10000
     },
     "inputWidgets": {},
     "nuid": "a9568591-cd8e-4ad7-8a19-96683bab7aec",
     "showTitle": false,
     "title": ""
    }
   },
   "outputs": [],
   "source": [
    "CITY_ID = 1_000_000\n",
    "MAP_FILE = f\"{CITY_ID}-latest.osm.pbf\"\n",
    "LABEL = \"speed_kmh\"\n",
    "S3 = boto3.client('s3')\n",
    "S3_BUCKET = \"some_bucket\"\n",
    "S3_SUBDIR = f\"subdir_path\"\n",
    "S3_DATA = \"data_path\"\n",
    "S3_PREDS = f\"{S3_SUBDIR}/model_predictions\"\n",
    "S3_FILENAME = \"edge_time_aggregated_4_lags.parquet\"\n",
    "N_WEEKS = 7\n",
    "N_WEEKS_TRAINING = 5\n",
    "N_WEEKS_VALIDATION = 1\n",
    "DATA_SPLITS = [\"train\", \"valid\", \"test\"]"
   ]
  },
  {
   "cell_type": "code",
   "execution_count": null,
   "metadata": {
    "application/vnd.databricks.v1+cell": {
     "cellMetadata": {
      "byteLimit": 2048000,
      "rowLimit": 10000
     },
     "inputWidgets": {},
     "nuid": "4f9e3f3c-1dc9-456d-8472-d02db301bfdf",
     "showTitle": false,
     "title": ""
    }
   },
   "outputs": [],
   "source": [
    "S3.download_file(S3_BUCKET, f\"{S3_SUBDIR}/unique_edges.pickle\", \"unique_edges.pickle\")\n",
    "with open(\"unique_edges.pickle\", \"rb\") as f:\n",
    "    UNIQUE_EDGES = pickle.load(f)\n",
    "len(UNIQUE_EDGES)"
   ]
  },
  {
   "cell_type": "code",
   "execution_count": null,
   "metadata": {
    "application/vnd.databricks.v1+cell": {
     "cellMetadata": {
      "byteLimit": 2048000,
      "rowLimit": 10000
     },
     "inputWidgets": {},
     "nuid": "99282d87-9c82-4b9a-9812-af9cf781c47d",
     "showTitle": false,
     "title": ""
    }
   },
   "outputs": [],
   "source": [
    "def compute_adjacency_matrix():\n",
    "    adjacency_matrix = np.zeros((len(UNIQUE_EDGES), len(UNIQUE_EDGES)))\n",
    "\n",
    "    for i, edge_i in enumerate(UNIQUE_EDGES):\n",
    "        for j, edge_j in enumerate(UNIQUE_EDGES):\n",
    "            if set(edge_i).intersection(set(edge_j)):\n",
    "                adjacency_matrix[i, j] = 1\n",
    "                adjacency_matrix[j, i] = 1\n",
    "\n",
    "    adjacency_matrix = adjacency_matrix.astype(np.float32)\n",
    "    edge_index = (np.array(adjacency_matrix) > 0).nonzero()\n",
    "    return adjacency_matrix, edge_index"
   ]
  },
  {
   "cell_type": "markdown",
   "metadata": {
    "application/vnd.databricks.v1+cell": {
     "cellMetadata": {
      "byteLimit": 2048000,
      "rowLimit": 10000
     },
     "inputWidgets": {},
     "nuid": "b08e54dd-f619-4bff-a416-2c3292c63056",
     "showTitle": false,
     "title": ""
    }
   },
   "source": [
    "# Data imputation methods"
   ]
  },
  {
   "cell_type": "code",
   "execution_count": null,
   "metadata": {
    "application/vnd.databricks.v1+cell": {
     "cellMetadata": {
      "byteLimit": 2048000,
      "rowLimit": 10000
     },
     "inputWidgets": {},
     "nuid": "35aa2bec-ab60-412d-ba77-a93db266a933",
     "showTitle": false,
     "title": ""
    }
   },
   "outputs": [],
   "source": [
    "def expand_edge_time_series(edge_df):\n",
    "    edge_df = (edge_df.reset_index().set_index(\"minute_bucket\")\n",
    "        .join(DATASET_RANGE_DF, how=\"right\", lsuffix='l')\n",
    "        .drop([\"index\", \"indexl\"], axis=1))\n",
    "    edge_df[\"edge\"] = edge_df.edge.ffill().bfill()\n",
    "    edge_df = edge_df.reset_index()\n",
    "    return edge_df"
   ]
  },
  {
   "cell_type": "markdown",
   "metadata": {
    "application/vnd.databricks.v1+cell": {
     "cellMetadata": {
      "byteLimit": 2048000,
      "rowLimit": 10000
     },
     "inputWidgets": {},
     "nuid": "8e781100-6ddd-480c-8b45-cc5767a4bcaa",
     "showTitle": false,
     "title": ""
    }
   },
   "source": [
    "# Visualisation code"
   ]
  },
  {
   "cell_type": "code",
   "execution_count": null,
   "metadata": {
    "application/vnd.databricks.v1+cell": {
     "cellMetadata": {
      "byteLimit": 2048000,
      "rowLimit": 10000
     },
     "inputWidgets": {},
     "nuid": "c4fa0054-e795-4882-9063-1b632c6e3cb9",
     "showTitle": false,
     "title": ""
    }
   },
   "outputs": [],
   "source": [
    "def plot_random_edge_and_neighbours_time_series(speeds_df, ys, dataset, model, nodes):\n",
    "    edge = random.choice(UNIQUE_EDGES)\n",
    "    neighbours = [IDX_EDGE_MAP[idx] for idx in np.nonzero(ADJACENCY_MATRIX[EDGE_IDX_MAP[edge]])[0]]\n",
    "    neighbours.remove(edge)\n",
    "    for e in [edge] + neighbours:\n",
    "        plot_edge_time_series(e, speeds_df, ys, dataset, model)\n",
    "    return plot_edges(nodes, [edge] + neighbours)\n",
    "    \n",
    "\n",
    "def plot_edge_and_neighbours_time_series(edge, speeds_df, ys, dataset, model, nodes):\n",
    "    neighbours = [IDX_EDGE_MAP[idx] for idx in np.nonzero(ADJACENCY_MATRIX[EDGE_IDX_MAP[edge]])[0]]\n",
    "    neighbours.remove(edge)\n",
    "    for e in [edge] + neighbours:\n",
    "        plot_edge_time_series(e, speeds_df, ys, dataset, model)\n",
    "    return plot_edges(nodes, [edge] + neighbours)\n",
    "    \n",
    "\n",
    "def plot_edge_time_series(edge, speeds_df, ys, dataset, model):\n",
    "    one_edge_df = speeds_df[speeds_df.edge == edge][[\"minute_bucket\", \"speed_kmh\"]].sort_values(\"minute_bucket\")\n",
    "\n",
    "    fig = go.Figure()\n",
    "\n",
    "    fig.add_trace(\n",
    "        go.Scatter(\n",
    "        x=one_edge_df.minute_bucket,\n",
    "        y=one_edge_df.speed_kmh,\n",
    "        mode='markers',\n",
    "        name='Ground Truth'\n",
    "    ))\n",
    "    fig.add_trace(\n",
    "        go.Scatter(\n",
    "        x=DATASET_DATE_RANGE,\n",
    "        y=[y[EDGE_IDX_MAP[edge]] for y in ys],\n",
    "        mode='markers',\n",
    "        name='Imputed'\n",
    "    ))\n",
    "    fig.add_trace(go.Scatter(\n",
    "        x=DATASET_DATE_RANGE,\n",
    "        y=model_predict(model, dataset, edge),\n",
    "        mode='markers',\n",
    "        name='GNN predictions'\n",
    "    ))\n",
    "    fig.add_trace(go.Scatter(\n",
    "        x=DATASET_DATE_RANGE,\n",
    "        y=[edge_time_naive(edge, ts) for ts in DATASET_DATE_RANGE],\n",
    "        mode='markers',\n",
    "        name='Naive predictions'\n",
    "    ))\n",
    "\n",
    "    # Update layout with checkboxes\n",
    "    fig.update_layout(\n",
    "        title=f\"Time series for edge {edge}\",\n",
    "        title_x=0.5,\n",
    "        xaxis=dict(\n",
    "            title=\"Time [15-minute bucket]\"\n",
    "        ),\n",
    "        yaxis=dict(\n",
    "            title=\"Speed [km/h]\"\n",
    "        ),\n",
    "    )\n",
    "\n",
    "    # Update layout with legend\n",
    "    fig.update_layout(\n",
    "        legend=dict(\n",
    "            orientation=\"h\",\n",
    "            yanchor=\"bottom\",\n",
    "            y=1.02,\n",
    "            xanchor=\"right\",\n",
    "            x=1\n",
    "        )\n",
    "    )\n",
    "    fig.show()\n",
    "\n",
    "\n",
    "\n",
    "def plot_edges(nodes, edges):\n",
    "    m = folium.Map(location=[44.435608, 26.102297], zoom_start=15)\n",
    "\n",
    "    node_ids = [n for edge in edges for n in edge]\n",
    "\n",
    "    # Add edges to the map\n",
    "    for u, v in edges:\n",
    "        x0, y0 = nodes[nodes[\"id\"] == u][[\"lat\", \"lon\"]].iloc[0]\n",
    "        x1, y1 = nodes[nodes[\"id\"] == v][[\"lat\", \"lon\"]].iloc[0]\n",
    "        folium.PolyLine(locations=[(x0, y0), (x1, y1)], color='blue', weight=5, tooltip=f\"{u, v}\").add_to(m)\n",
    "\n",
    "    # Add nodes to the map\n",
    "    for node in node_ids:\n",
    "        x, y = nodes[nodes[\"id\"] == node][[\"lat\", \"lon\"]].iloc[0]\n",
    "        folium.CircleMarker(location=(x, y), radius=5, color='red', fill=True, fill_color='red').add_to(m)\n",
    "\n",
    "    return m"
   ]
  },
  {
   "cell_type": "markdown",
   "metadata": {
    "application/vnd.databricks.v1+cell": {
     "cellMetadata": {
      "byteLimit": 2048000,
      "rowLimit": 10000
     },
     "inputWidgets": {},
     "nuid": "aed00397-ffca-428c-87a2-c936ac3e6367",
     "showTitle": false,
     "title": ""
    }
   },
   "source": [
    "# Data preprocessing"
   ]
  },
  {
   "cell_type": "code",
   "execution_count": null,
   "metadata": {
    "application/vnd.databricks.v1+cell": {
     "cellMetadata": {
      "byteLimit": 2048000,
      "rowLimit": 10000
     },
     "inputWidgets": {},
     "nuid": "ca5d915d-33d2-426b-a4bb-d147a992d16a",
     "showTitle": false,
     "title": ""
    }
   },
   "outputs": [],
   "source": [
    "def extract_city_graph():\n",
    "    S3.download_file(S3_BUCKET, f\"{S3_SUBDIR}/{CITY_ID}-latest.osm.pbf\", \"bucharest.pbf\")\n",
    "\n",
    "    osm = pyrosm.OSM(\"bucharest.pbf\")\n",
    "    nodes, edges = osm.get_network(nodes=True, network_type=\"driving+service\")\n",
    "    edges[\"edge\"] = list(zip(edges.u, edges.v))\n",
    "    print(f\"Unique OSM nodes: {nodes.id.nunique()}, unique OSM edges: {edges.id.nunique()}\")\n",
    "\n",
    "    if not os.path.isfile(S3_FILENAME):\n",
    "        S3.download_file(S3_BUCKET, f\"{S3_SUBDIR}/{S3_DATA}/{S3_FILENAME}\", S3_FILENAME)\n",
    "    \n",
    "    speeds_df = pd.read_parquet(S3_FILENAME)\n",
    "\n",
    "    print(f\"Dataset time boundaries: {speeds_df.minute_bucket.min(), speeds_df.minute_bucket.max()}\")\n",
    "    print(f\"Initial dataset shape: {speeds_df.shape}\")\n",
    "\n",
    "    speeds_df.speed_kmh.hist()\n",
    "    plt.title(\"Dataset speed distribution\")\n",
    "    plt.xlabel(\"Speed [km/h]\")\n",
    "    plt.ylabel(\"Count\")\n",
    "    plt.show()\n",
    "\n",
    "    speeds_df[\"edge\"] = list(zip(speeds_df.start_node, speeds_df.end_node))\n",
    "\n",
    "    speeds_df = speeds_df[speeds_df.edge.isin(UNIQUE_EDGES)]\n",
    "\n",
    "    print(f\"Dataset shape after filtering edges of interest: {speeds_df.shape}\")\n",
    "\n",
    "    # get all relevant node ids from speed data\n",
    "    node_ids = list(set(speeds_df.start_node).union(set(speeds_df.end_node)))\n",
    "\n",
    "    return speeds_df, nodes, edges"
   ]
  },
  {
   "cell_type": "code",
   "execution_count": null,
   "metadata": {
    "application/vnd.databricks.v1+cell": {
     "cellMetadata": {
      "byteLimit": 2048000,
      "rowLimit": 10000
     },
     "inputWidgets": {},
     "nuid": "1d8a9b6f-9e3b-4953-a1ba-c000c61d3c0c",
     "showTitle": false,
     "title": ""
    }
   },
   "outputs": [],
   "source": [
    "def load_road_network(map_path):\n",
    "    osm = pyrosm.OSM(map_path)\n",
    "    nodes, edges = osm.get_network(nodes=True, network_type=\"driving+service\")\n",
    "    edges[\"edge\"] = list(zip(edges[\"u\"], edges[\"v\"]))\n",
    "    edges[\"centroid_lng\"] = [g.centroid.x for g in edges[\"geometry\"]]\n",
    "    edges[\"centroid_lat\"] = [g.centroid.y for g in edges[\"geometry\"]]\n",
    "\n",
    "    edge_dict = {}\n",
    "    for edge, way_id, highway, length, surface, service, maxspeed, oneway, lit, access, centroid_lat, centroid_lng in tqdm(\n",
    "        zip(edges.edge, edges[\"id\"], edges.highway, edges.length, edges.surface, edges.service,\n",
    "            edges.maxspeed, edges.oneway, edges.lit, edges.access, edges.centroid_lat, edges.centroid_lng)):\n",
    "        \n",
    "        payload = {\n",
    "            \"highway\": highway,\n",
    "            \"way_id\": way_id,\n",
    "            \"length\": length,\n",
    "            \"surface\": surface,\n",
    "            \"service\": service,\n",
    "            \"maxspeed\": clean_maxspeed(maxspeed),\n",
    "            \"oneway\": oneway,\n",
    "            \"lit\": lit,\n",
    "            \"access\": access,\n",
    "            \"road_centroid_lat\": centroid_lat,\n",
    "            \"road_centroid_lng\": centroid_lng\n",
    "        }\n",
    "        \n",
    "        edge_dict[edge] = payload\n",
    "    return edge_dict\n",
    "\n",
    "\n",
    "def clean_maxspeed(maxspeed):\n",
    "\n",
    "    clean_values = {\n",
    "        \"BY:urban\": \"60\",\n",
    "        \"BY:rural\": \"90\",\n",
    "        \"BY:living_street\": \"20\",\n",
    "        \"ES:motorway\": \"120\",\n",
    "        \"ES:urban\": \"30\",\n",
    "        \"50|30\": \"49\",\n",
    "        \"50|30|50\": \"48\",\n",
    "        \"50|50|30\": \"51\",\n",
    "        \"30|50\": \"31\",\n",
    "        \"100km/h\": \"100\",\n",
    "        \"RO:urban\": \"50\",\n",
    "        \"RO:rural\": \"80\",\n",
    "        \"50 mph\": \"50\",\n",
    "        \"5 mph\": \"5\",\n",
    "    }\n",
    "\n",
    "    return clean_values[maxspeed] if maxspeed in clean_values else maxspeed\n",
    "\n",
    "\n",
    "def get_way_features(df: pd.DataFrame, edge_dict: dict):\n",
    "    \n",
    "    way_features = [\n",
    "        \"highway\",\n",
    "        \"way_id\",\n",
    "        \"length\",\n",
    "        \"surface\",\n",
    "        \"service\",\n",
    "        \"maxspeed\",\n",
    "        \"oneway\",\n",
    "        \"lit\",\n",
    "        \"access\",\n",
    "        \"road_centroid_lat\",\n",
    "        \"road_centroid_lng\"\n",
    "    ]\n",
    "    \n",
    "    _way_feats = defaultdict(list)\n",
    "    for edge in df.edge:\n",
    "        record = edge_dict.get(edge, edge_dict.get(tuple(reversed(edge)), defaultdict(lambda: None)))\n",
    "        for k in way_features:\n",
    "            _way_feats[k].append(record[k])\n",
    "\n",
    "    for k in way_features:\n",
    "        df[k] = _way_feats[k]\n",
    "        \n",
    "    return df"
   ]
  },
  {
   "cell_type": "code",
   "execution_count": null,
   "metadata": {
    "application/vnd.databricks.v1+cell": {
     "cellMetadata": {
      "byteLimit": 2048000,
      "rowLimit": 10000
     },
     "inputWidgets": {},
     "nuid": "3a4363e3-9160-4f60-9bb4-d95e0f1cb148",
     "showTitle": false,
     "title": ""
    }
   },
   "outputs": [],
   "source": [
    "def prepare_lgb_dataset(df, edge_dict):\n",
    "    df[\"edge\"] = list(zip(df.start_node, df.end_node))\n",
    "    df[\"weekday\"] = df.minute_bucket.dt.weekday\n",
    "    df[\"hour\"] = df.minute_bucket.dt.hour\n",
    "    df[\"minute\"] = df.minute_bucket.dt.minute\n",
    "\n",
    "    # Static road network features (road surface, road type, etc.)\n",
    "    df = get_way_features(df, edge_dict)\n",
    "\n",
    "    # Putting features together\n",
    "    cat_features = [\"highway\", \"surface\", \"service\", \"oneway\"]\n",
    "    # num_features = [\"length\", \"maxspeed\", \"road_centroid_lat\", \"road_centroid_lng\"]\n",
    "    num_features = [\"length\", \"maxspeed\"]\n",
    "\n",
    "\n",
    "    cat_codes = {}\n",
    "    for cat_feat in cat_features:\n",
    "        cat_codes[cat_feat] = dict(zip(df[cat_feat].astype('category'), df[cat_feat].astype('category').cat.codes))\n",
    "\n",
    "    for cat_feat in cat_features:\n",
    "        df[cat_feat + \"_cat\"] = [cat_codes[cat_feat].get(c, -1) for c in df[cat_feat].astype('category')]\n",
    "        \n",
    "    for num_feat in num_features:\n",
    "        df[num_feat] = df[num_feat].astype('float')\n",
    "\n",
    "    cat_feat_list = [x + '_cat' for x in cat_features]\n",
    "\n",
    "    train_features = [\"weekday\", \"hour\", \"minute\"] + SPEED_FEATURES + num_features + cat_feat_list\n",
    "\n",
    "    lgb_dataset = lgb.Dataset(df[train_features], label=df[LABEL], categorical_feature=cat_feat_list, free_raw_data=False).construct()\n",
    "    return lgb_dataset"
   ]
  },
  {
   "cell_type": "markdown",
   "metadata": {
    "application/vnd.databricks.v1+cell": {
     "cellMetadata": {
      "byteLimit": 2048000,
      "rowLimit": 10000
     },
     "inputWidgets": {},
     "nuid": "9b524898-ad63-4d2b-a144-64c8f27eba80",
     "showTitle": false,
     "title": ""
    }
   },
   "source": [
    "# Experiments"
   ]
  },
  {
   "cell_type": "code",
   "execution_count": null,
   "metadata": {
    "application/vnd.databricks.v1+cell": {
     "cellMetadata": {
      "byteLimit": 2048000,
      "rowLimit": 10000
     },
     "inputWidgets": {},
     "nuid": "9fb37e2f-3a0d-476c-8504-b04bd6a0dd7b",
     "showTitle": false,
     "title": ""
    },
    "jupyter": {
     "outputs_hidden": true
    }
   },
   "outputs": [],
   "source": [
    "subgraph_speeds_df, nodes, edges = extract_city_graph()"
   ]
  },
  {
   "cell_type": "code",
   "execution_count": null,
   "metadata": {
    "application/vnd.databricks.v1+cell": {
     "cellMetadata": {
      "byteLimit": 2048000,
      "rowLimit": 10000
     },
     "inputWidgets": {},
     "nuid": "b33f822f-f725-4766-84e5-887bc00821ac",
     "showTitle": false,
     "title": ""
    }
   },
   "outputs": [],
   "source": [
    "DATASET_START_DATE = subgraph_speeds_df.minute_bucket.min()\n",
    "DATASET_END_DATE = subgraph_speeds_df.minute_bucket.max()\n",
    "DATASET_DATE_RANGE = pd.date_range(DATASET_START_DATE, DATASET_END_DATE, freq=\"15min\")\n",
    "DATASET_RANGE_DF = pd.DataFrame(DATASET_DATE_RANGE, columns=[\"minute_bucket\"]).reset_index().set_index(\"minute_bucket\")\n",
    "\n",
    "EDGE_IDX_MAP = {edge: i for i, edge in enumerate(UNIQUE_EDGES)}\n",
    "IDX_EDGE_MAP = {i: edge for i, edge in enumerate(UNIQUE_EDGES)}\n",
    "\n",
    "subgraph_speeds_df[\"day\"] = subgraph_speeds_df.minute_bucket.dt.weekday\n",
    "subgraph_speeds_df[\"hour\"] = subgraph_speeds_df.minute_bucket.dt.hour\n",
    "subgraph_speeds_df[\"minute\"] = subgraph_speeds_df.minute_bucket.dt.minute\n",
    "\n",
    "subgraph_speeds_df.sort_values([\"edge\", \"minute_bucket\"], inplace=True)\n",
    "\n",
    "SPEED_FEATURES = [col_name for col_name in subgraph_speeds_df.columns if \"lag\" in col_name]\n",
    "\n",
    "train_subgraph_speeds_df = subgraph_speeds_df[subgraph_speeds_df.minute_bucket < DATASET_START_DATE + pd.Timedelta(N_WEEKS_TRAINING, 'W')]\n",
    "MEAN_SPEED = train_subgraph_speeds_df.speed_kmh.mean()\n",
    "EDGE_AVG_DICT = train_subgraph_speeds_df[[\"speed_kmh\", \"edge\"]].groupby(\"edge\").mean().astype(int).to_dict()[\"speed_kmh\"]\n",
    "EDGE_15_MIN_BUCKET_DICT = train_subgraph_speeds_df.groupby([\"edge\", \"day\", \"hour\", \"minute\"])[\"speed_kmh\"].mean().to_dict()\n",
    "\n",
    "ADJACENCY_MATRIX, EDGE_INDEX = compute_adjacency_matrix()\n",
    "\n",
    "TRAIN_DATE_RANGE = pd.date_range(DATASET_START_DATE, DATASET_START_DATE + pd.Timedelta(N_WEEKS_TRAINING, 'W'), freq=\"15min\", inclusive=\"left\")\n",
    "VALID_DATE_RANGE = pd.date_range(TRAIN_DATE_RANGE[-1], TRAIN_DATE_RANGE[-1] + pd.Timedelta(N_WEEKS_VALIDATION, 'W'), freq=\"15min\", inclusive=\"right\")\n",
    "TEST_DATE_RANGE = pd.date_range(VALID_DATE_RANGE[-1], VALID_DATE_RANGE[-1] + pd.Timedelta(N_WEEKS_VALIDATION, 'W'), freq=\"15min\", inclusive=\"right\")"
   ]
  },
  {
   "cell_type": "markdown",
   "metadata": {
    "application/vnd.databricks.v1+cell": {
     "cellMetadata": {
      "byteLimit": 2048000,
      "rowLimit": 10000
     },
     "inputWidgets": {},
     "nuid": "1db374db-c5a4-4833-bbd4-d3197ce36e81",
     "showTitle": false,
     "title": ""
    }
   },
   "source": [
    "## LightGBM"
   ]
  },
  {
   "cell_type": "code",
   "execution_count": null,
   "metadata": {
    "application/vnd.databricks.v1+cell": {
     "cellMetadata": {
      "byteLimit": 2048000,
      "rowLimit": 10000
     },
     "inputWidgets": {},
     "nuid": "79f1834a-185f-4eec-a5a6-3723d74f4f28",
     "showTitle": false,
     "title": ""
    }
   },
   "outputs": [],
   "source": [
    "train_df = subgraph_speeds_df[subgraph_speeds_df.minute_bucket <= TRAIN_DATE_RANGE.max()]\n",
    "valid_df = subgraph_speeds_df[(subgraph_speeds_df.minute_bucket > TRAIN_DATE_RANGE.max()) & (subgraph_speeds_df.minute_bucket <= VALID_DATE_RANGE.max())]\n",
    "test_df = subgraph_speeds_df[subgraph_speeds_df.minute_bucket > VALID_DATE_RANGE.max()]"
   ]
  },
  {
   "cell_type": "code",
   "execution_count": null,
   "metadata": {
    "application/vnd.databricks.v1+cell": {
     "cellMetadata": {
      "byteLimit": 2048000,
      "rowLimit": 10000
     },
     "inputWidgets": {},
     "nuid": "28fd4946-45a2-48ed-8dbe-758e1ca5dec1",
     "showTitle": false,
     "title": ""
    }
   },
   "outputs": [],
   "source": [
    "train_df.shape, valid_df.shape, test_df.shape"
   ]
  },
  {
   "cell_type": "code",
   "execution_count": null,
   "metadata": {
    "application/vnd.databricks.v1+cell": {
     "cellMetadata": {
      "byteLimit": 2048000,
      "rowLimit": 10000
     },
     "inputWidgets": {},
     "nuid": "8a1a1287-35ec-4e9e-a39f-260319fe0e50",
     "showTitle": false,
     "title": ""
    }
   },
   "outputs": [],
   "source": [
    "train_df.head()"
   ]
  },
  {
   "cell_type": "code",
   "execution_count": null,
   "metadata": {
    "application/vnd.databricks.v1+cell": {
     "cellMetadata": {
      "byteLimit": 2048000,
      "rowLimit": 10000
     },
     "inputWidgets": {},
     "nuid": "8f534e9c-e7bc-4a74-a97f-aa99a65f3401",
     "showTitle": false,
     "title": ""
    }
   },
   "outputs": [],
   "source": [
    "edge_dict = load_road_network(\"bucharest.pbf\")"
   ]
  },
  {
   "cell_type": "code",
   "execution_count": null,
   "metadata": {
    "application/vnd.databricks.v1+cell": {
     "cellMetadata": {
      "byteLimit": 2048000,
      "rowLimit": 10000
     },
     "inputWidgets": {},
     "nuid": "738542c5-eb15-4b72-9a99-fc9d022ea16a",
     "showTitle": false,
     "title": ""
    }
   },
   "outputs": [],
   "source": [
    "edge_dict"
   ]
  },
  {
   "cell_type": "code",
   "execution_count": null,
   "metadata": {
    "application/vnd.databricks.v1+cell": {
     "cellMetadata": {
      "byteLimit": 2048000,
      "rowLimit": 10000
     },
     "inputWidgets": {},
     "nuid": "afef0994-bfaa-4013-a89d-3188112e85cc",
     "showTitle": false,
     "title": ""
    }
   },
   "outputs": [],
   "source": [
    "train_lgb_dataset = prepare_lgb_dataset(train_df, edge_dict)\n",
    "valid_lgb_dataset = prepare_lgb_dataset(valid_df, edge_dict)\n",
    "test_lgb_dataset = prepare_lgb_dataset(test_df, edge_dict)"
   ]
  },
  {
   "cell_type": "code",
   "execution_count": null,
   "metadata": {
    "application/vnd.databricks.v1+cell": {
     "cellMetadata": {
      "byteLimit": 2048000,
      "rowLimit": 10000
     },
     "inputWidgets": {},
     "nuid": "9bd91ad7-1465-469e-b24a-d02d5cfc1f53",
     "showTitle": false,
     "title": ""
    }
   },
   "outputs": [],
   "source": [
    "train_lgb_dataset.num_feature()"
   ]
  },
  {
   "cell_type": "code",
   "execution_count": null,
   "metadata": {
    "application/vnd.databricks.v1+cell": {
     "cellMetadata": {
      "byteLimit": 2048000,
      "rowLimit": 10000
     },
     "inputWidgets": {},
     "nuid": "6bb254ae-c0e0-4bbb-b01c-26f95ec2a3a6",
     "showTitle": false,
     "title": ""
    }
   },
   "outputs": [],
   "source": [
    "train_lgb_dataset.get_feature_name()"
   ]
  },
  {
   "cell_type": "code",
   "execution_count": null,
   "metadata": {
    "application/vnd.databricks.v1+cell": {
     "cellMetadata": {
      "byteLimit": 2048000,
      "rowLimit": 10000
     },
     "inputWidgets": {},
     "nuid": "651a52bf-3257-4ac3-8df7-12a4283cfeaa",
     "showTitle": false,
     "title": ""
    }
   },
   "outputs": [],
   "source": [
    "lgb_params = {\n",
    "    'boosting_type': 'gbdt',\n",
    "    'objective': 'regression',\n",
    "    'metric': 'mse',\n",
    "    'num_iterations': 1000,\n",
    "    'is_training_metric': True,\n",
    "    'num_leaves': 100,\n",
    "    'learning_rate': 0.1,\n",
    "    'verbose': 1,\n",
    "    'min_data_in_leaf': 100,\n",
    "    'min_data_in_bin': 100,\n",
    "}"
   ]
  },
  {
   "cell_type": "code",
   "execution_count": null,
   "metadata": {
    "application/vnd.databricks.v1+cell": {
     "cellMetadata": {
      "byteLimit": 2048000,
      "rowLimit": 10000
     },
     "inputWidgets": {},
     "nuid": "7a491707-eb00-4b02-b33e-5c365437c328",
     "showTitle": false,
     "title": ""
    }
   },
   "outputs": [],
   "source": [
    "bst = lgb.train(lgb_params, train_lgb_dataset, valid_sets=valid_lgb_dataset, callbacks=[lgb.early_stopping(300)])"
   ]
  },
  {
   "cell_type": "code",
   "execution_count": null,
   "metadata": {
    "application/vnd.databricks.v1+cell": {
     "cellMetadata": {
      "byteLimit": 2048000,
      "rowLimit": 10000
     },
     "inputWidgets": {},
     "nuid": "7d036536-3f6f-43f9-96f9-f321471aa329",
     "showTitle": false,
     "title": ""
    }
   },
   "outputs": [],
   "source": [
    "lgb.plot_importance(bst)"
   ]
  },
  {
   "cell_type": "markdown",
   "metadata": {
    "application/vnd.databricks.v1+cell": {
     "cellMetadata": {},
     "inputWidgets": {},
     "nuid": "1eb49915-3ce8-4578-8c1e-435ff78e8870",
     "showTitle": false,
     "title": ""
    }
   },
   "source": [
    "## Saving results"
   ]
  },
  {
   "cell_type": "code",
   "execution_count": null,
   "metadata": {
    "application/vnd.databricks.v1+cell": {
     "cellMetadata": {
      "byteLimit": 2048000,
      "rowLimit": 10000
     },
     "inputWidgets": {},
     "nuid": "91c2e742-b902-4efa-a8d9-a801b6664200",
     "showTitle": false,
     "title": ""
    }
   },
   "outputs": [],
   "source": [
    "MODEL_NAME = f\"lgbm_{len(UNIQUE_EDGES)}_unique_edges\"\n",
    "with open(f\"{MODEL_NAME}.pickle\", \"wb\") as file:\n",
    "    pickle.dump(bst, file)\n",
    "S3.upload_file(f\"{MODEL_NAME}.pickle\", S3_BUCKET, f\"{S3_SUBDIR}/models/{MODEL_NAME}.pickle\")"
   ]
  },
  {
   "cell_type": "code",
   "execution_count": null,
   "metadata": {
    "application/vnd.databricks.v1+cell": {
     "cellMetadata": {
      "byteLimit": 2048000,
      "rowLimit": 10000
     },
     "inputWidgets": {},
     "nuid": "1ff0a891-fb3e-478f-a29b-78ddccd253ce",
     "showTitle": false,
     "title": ""
    }
   },
   "outputs": [],
   "source": [
    "train_lgb_dataset.get_data().to_parquet(f\"{MODEL_NAME}_train.parquet\")\n",
    "S3.upload_file(f\"{MODEL_NAME}_train.parquet\", S3_BUCKET, f\"{S3_SUBDIR}/data/{MODEL_NAME}_train.parquet\")"
   ]
  },
  {
   "cell_type": "code",
   "execution_count": null,
   "metadata": {
    "application/vnd.databricks.v1+cell": {
     "cellMetadata": {
      "byteLimit": 2048000,
      "rowLimit": 10000
     },
     "inputWidgets": {},
     "nuid": "bbd02536-bfcf-4a91-91e1-5b1a571ee3c6",
     "showTitle": false,
     "title": ""
    }
   },
   "outputs": [],
   "source": [
    "train_preds_df = train_df[[\"minute_bucket\", \"start_node\", \"end_node\", \"speed_kmh\"]].copy()\n",
    "train_preds_df[\"preds\"] = bst.predict(train_lgb_dataset.get_data())\n",
    "mean_squared_error(train_preds_df.preds, train_preds_df.speed_kmh)"
   ]
  },
  {
   "cell_type": "code",
   "execution_count": null,
   "metadata": {
    "application/vnd.databricks.v1+cell": {
     "cellMetadata": {
      "byteLimit": 2048000,
      "rowLimit": 10000
     },
     "inputWidgets": {},
     "nuid": "efb1da29-d172-435c-a0aa-8cd5de99e0b8",
     "showTitle": false,
     "title": ""
    }
   },
   "outputs": [],
   "source": [
    "train_preds_df.to_parquet(f\"{MODEL_NAME}_train_preds.parquet\")"
   ]
  },
  {
   "cell_type": "code",
   "execution_count": null,
   "metadata": {
    "application/vnd.databricks.v1+cell": {
     "cellMetadata": {
      "byteLimit": 2048000,
      "rowLimit": 10000
     },
     "inputWidgets": {},
     "nuid": "19148dd9-a53a-475c-8337-d94794f7e4b8",
     "showTitle": false,
     "title": ""
    }
   },
   "outputs": [],
   "source": [
    "S3.upload_file(f\"{MODEL_NAME}_train_preds.parquet\", S3_BUCKET, f\"{S3_PREDS}/lgbm/{MODEL_NAME}_train_preds.parquet\")"
   ]
  },
  {
   "cell_type": "code",
   "execution_count": null,
   "metadata": {
    "application/vnd.databricks.v1+cell": {
     "cellMetadata": {
      "byteLimit": 2048000,
      "rowLimit": 10000
     },
     "inputWidgets": {},
     "nuid": "93acffb8-d072-4a5e-a990-ae3574dd49b9",
     "showTitle": false,
     "title": ""
    }
   },
   "outputs": [],
   "source": [
    "valid_preds_df = valid_df[[\"minute_bucket\", \"start_node\", \"end_node\", \"speed_kmh\"]].copy()\n",
    "valid_preds_df[\"preds\"] = bst.predict(valid_lgb_dataset.get_data())\n",
    "valid_preds_df.to_parquet(f\"{MODEL_NAME}_valid_preds.parquet\")\n",
    "S3.upload_file(f\"{MODEL_NAME}_valid_preds.parquet\", S3_BUCKET, f\"{S3_PREDS}/lgbm/{MODEL_NAME}_valid_preds.parquet\")\n",
    "mean_squared_error(valid_preds_df.preds, valid_preds_df.speed_kmh)"
   ]
  },
  {
   "cell_type": "code",
   "execution_count": null,
   "metadata": {
    "application/vnd.databricks.v1+cell": {
     "cellMetadata": {
      "byteLimit": 2048000,
      "rowLimit": 10000
     },
     "inputWidgets": {},
     "nuid": "464cd7a2-3eec-497e-87dd-9bed8f17e0c4",
     "showTitle": false,
     "title": ""
    }
   },
   "outputs": [],
   "source": [
    "test_preds_df = test_df[[\"minute_bucket\", \"start_node\", \"end_node\", \"speed_kmh\"]].copy()\n",
    "test_preds_df[\"preds\"] = bst.predict(test_lgb_dataset.get_data())\n",
    "test_preds_df.to_parquet(f\"{MODEL_NAME}_test_preds.parquet\")\n",
    "S3.upload_file(f\"{MODEL_NAME}_test_preds.parquet\", S3_BUCKET, f\"{S3_PREDS}/lgbm/{MODEL_NAME}_test_preds.parquet\")\n",
    "mean_squared_error(test_preds_df.preds, test_preds_df.speed_kmh)"
   ]
  },
  {
   "cell_type": "code",
   "execution_count": null,
   "metadata": {
    "application/vnd.databricks.v1+cell": {
     "cellMetadata": {},
     "inputWidgets": {},
     "nuid": "ac106dc0-80f8-4f0a-9562-6cddcf5b0c6d",
     "showTitle": false,
     "title": ""
    }
   },
   "outputs": [],
   "source": []
  }
 ],
 "metadata": {
  "application/vnd.databricks.v1+notebook": {
   "dashboards": [],
   "environmentMetadata": null,
   "language": "python",
   "notebookMetadata": {
    "pythonIndentUnit": 4
   },
   "notebookName": "LightGBM 317 edges 7 weeks",
   "widgets": {}
  },
  "language_info": {
   "name": "python"
  }
 },
 "nbformat": 4,
 "nbformat_minor": 0
}
