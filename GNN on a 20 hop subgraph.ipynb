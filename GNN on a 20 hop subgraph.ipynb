{
 "cells": [
  {
   "cell_type": "code",
   "execution_count": null,
   "metadata": {
    "application/vnd.databricks.v1+cell": {
     "cellMetadata": {
      "byteLimit": 2048000,
      "rowLimit": 10000
     },
     "inputWidgets": {},
     "nuid": "7ae58ba7-c983-4008-83fe-383dd2cfe899",
     "showTitle": false,
     "title": ""
    }
   },
   "outputs": [],
   "source": [
    "%pip install pyrosm networkx tqdm contextily folium"
   ]
  },
  {
   "cell_type": "code",
   "execution_count": null,
   "metadata": {
    "application/vnd.databricks.v1+cell": {
     "cellMetadata": {
      "byteLimit": 2048000,
      "rowLimit": 10000
     },
     "inputWidgets": {},
     "nuid": "f5dc8ea6-c3bb-4c30-bb7a-f8e6e98d7a26",
     "showTitle": false,
     "title": ""
    }
   },
   "outputs": [],
   "source": [
    "import math\n",
    "\n",
    "import boto3\n",
    "import folium\n",
    "import matplotlib.pyplot as plt\n",
    "import networkx as nx\n",
    "import numpy as np\n",
    "import pandas as pd\n",
    "import plotly.graph_objs as go\n",
    "import pyrosm\n",
    "from tqdm import tqdm"
   ]
  },
  {
   "cell_type": "code",
   "execution_count": null,
   "metadata": {
    "application/vnd.databricks.v1+cell": {
     "cellMetadata": {
      "byteLimit": 2048000,
      "rowLimit": 10000
     },
     "inputWidgets": {},
     "nuid": "25dcf4cd-9e34-4fa7-a14c-2c33b21178b6",
     "showTitle": false,
     "title": ""
    }
   },
   "outputs": [],
   "source": [
    "CITY_ID = 1_000_000\n",
    "MAP_FILE = f\"{CITY_ID}-latest.osm.pbf\"\n",
    "S3_BUCKET = \"some_bucket\"\n",
    "S3_SUBDIR = f\"subdir_path\"\n",
    "S3_DATA = \"data_path\""
   ]
  },
  {
   "cell_type": "markdown",
   "metadata": {
    "application/vnd.databricks.v1+cell": {
     "cellMetadata": {},
     "inputWidgets": {},
     "nuid": "2e9079f2-d7c2-40f7-8c89-769914adf404",
     "showTitle": false,
     "title": ""
    }
   },
   "source": [
    "# Prepare a subgraph of Bucharest"
   ]
  },
  {
   "cell_type": "markdown",
   "metadata": {
    "application/vnd.databricks.v1+cell": {
     "cellMetadata": {
      "byteLimit": 2048000,
      "rowLimit": 10000
     },
     "inputWidgets": {},
     "nuid": "0306131b-8d06-4ac7-8aeb-6f4ce040f4a3",
     "showTitle": false,
     "title": ""
    }
   },
   "source": [
    "## Extract Bucharest graph from OSM"
   ]
  },
  {
   "cell_type": "code",
   "execution_count": null,
   "metadata": {
    "application/vnd.databricks.v1+cell": {
     "cellMetadata": {
      "byteLimit": 2048000,
      "rowLimit": 10000
     },
     "inputWidgets": {},
     "nuid": "bd852cca-92ad-4cec-8c68-b39363671dbb",
     "showTitle": false,
     "title": ""
    }
   },
   "outputs": [],
   "source": [
    "s3 = boto3.client('s3')\n",
    "s3.download_file(S3_BUCKET, f\"{S3_SUBDIR}/{CITY_ID}-latest.osm.pbf\", \"bucharest.pbf\")"
   ]
  },
  {
   "cell_type": "code",
   "execution_count": null,
   "metadata": {
    "application/vnd.databricks.v1+cell": {
     "cellMetadata": {
      "byteLimit": 2048000,
      "rowLimit": 10000
     },
     "inputWidgets": {},
     "nuid": "394221ab-2b07-4579-a22b-a0005141cceb",
     "showTitle": false,
     "title": ""
    }
   },
   "outputs": [],
   "source": [
    "osm = pyrosm.OSM(\"bucharest.pbf\")\n",
    "nodes, edges = osm.get_network(nodes=True, network_type=\"driving+service\")\n",
    "edges[\"edge\"] = list(zip(edges.u, edges.v))"
   ]
  },
  {
   "cell_type": "code",
   "execution_count": null,
   "metadata": {
    "application/vnd.databricks.v1+cell": {
     "cellMetadata": {
      "byteLimit": 2048000,
      "rowLimit": 10000
     },
     "inputWidgets": {},
     "nuid": "090edf2c-c4a1-42d3-a661-726a134c641d",
     "showTitle": false,
     "title": ""
    }
   },
   "outputs": [],
   "source": [
    "nodes.id.nunique(), edges.id.nunique()"
   ]
  },
  {
   "cell_type": "code",
   "execution_count": null,
   "metadata": {
    "application/vnd.databricks.v1+cell": {
     "cellMetadata": {
      "byteLimit": 2048000,
      "rowLimit": 10000
     },
     "inputWidgets": {},
     "nuid": "e4d4b996-61c7-4aba-bb85-4f69cf708c2a",
     "showTitle": false,
     "title": ""
    }
   },
   "outputs": [],
   "source": [
    "nodes.head()"
   ]
  },
  {
   "cell_type": "code",
   "execution_count": null,
   "metadata": {
    "application/vnd.databricks.v1+cell": {
     "cellMetadata": {
      "byteLimit": 2048000,
      "rowLimit": 10000
     },
     "inputWidgets": {},
     "nuid": "7fa881db-ed71-41a0-b39a-d11c33bff518",
     "showTitle": false,
     "title": ""
    }
   },
   "outputs": [],
   "source": [
    "edges.head()"
   ]
  },
  {
   "cell_type": "markdown",
   "metadata": {
    "application/vnd.databricks.v1+cell": {
     "cellMetadata": {
      "byteLimit": 2048000,
      "rowLimit": 10000
     },
     "inputWidgets": {},
     "nuid": "f4d7516e-0932-4211-9dd9-df5e5c472bc2",
     "showTitle": false,
     "title": ""
    }
   },
   "source": [
    "## Load Aggregated Tracking Data"
   ]
  },
  {
   "cell_type": "code",
   "execution_count": null,
   "metadata": {
    "application/vnd.databricks.v1+cell": {
     "cellMetadata": {
      "byteLimit": 2048000,
      "rowLimit": 10000
     },
     "inputWidgets": {},
     "nuid": "29a4f1f2-1129-4abf-9e47-44169e1cf4de",
     "showTitle": false,
     "title": ""
    }
   },
   "outputs": [],
   "source": [
    "from pyspark.sql.functions import col, to_date\n",
    "edge_speeds = spark.read.parquet(f\"s3://{S3_BUCKET}/{S3_SUBDIR}/{S3_DATA}/full_with_lags.parquet\")\n",
    "edge_speeds = edge_speeds.withColumn(\"date\", to_date(col(\"minute_bucket\")))\n",
    "edge_speeds = edge_speeds.repartition(col(\"minute_bucket\")) # You can write the data back this way for faster/mem efficient access during training\n",
    "\n",
    "# Filter for a day to make data loading faster\n",
    "speeds_df = edge_speeds.filter(\"date >= '2023-07-03' and date <= '2023-08-06'\").toPandas()\n",
    "# TODO: Add test set\n",
    "speeds_df.head()"
   ]
  },
  {
   "cell_type": "code",
   "execution_count": null,
   "metadata": {
    "application/vnd.databricks.v1+cell": {
     "cellMetadata": {
      "byteLimit": 2048000,
      "rowLimit": 10000
     },
     "inputWidgets": {},
     "nuid": "2a15d4a6-a6d1-4922-9cd4-b702bc37196f",
     "showTitle": false,
     "title": ""
    }
   },
   "outputs": [],
   "source": [
    "speeds_df.minute_bucket.min(), speeds_df.minute_bucket.max()"
   ]
  },
  {
   "cell_type": "code",
   "execution_count": null,
   "metadata": {
    "application/vnd.databricks.v1+cell": {
     "cellMetadata": {
      "byteLimit": 2048000,
      "rowLimit": 10000
     },
     "inputWidgets": {},
     "nuid": "a7214b1d-3acc-4606-b6b8-b09aabf5bcc3",
     "showTitle": false,
     "title": ""
    }
   },
   "outputs": [],
   "source": [
    "speeds_df.drop([\"__index_level_0__\", \"date\"], axis=1, inplace=True)"
   ]
  },
  {
   "cell_type": "code",
   "execution_count": null,
   "metadata": {
    "application/vnd.databricks.v1+cell": {
     "cellMetadata": {
      "byteLimit": 2048000,
      "rowLimit": 10000
     },
     "inputWidgets": {},
     "nuid": "ee533ea9-3688-4b2e-bc98-47245297832a",
     "showTitle": false,
     "title": ""
    }
   },
   "outputs": [],
   "source": [
    "speeds_df[\"edge\"] = list(zip(speeds_df.start_node, speeds_df.end_node))"
   ]
  },
  {
   "cell_type": "code",
   "execution_count": null,
   "metadata": {
    "application/vnd.databricks.v1+cell": {
     "cellMetadata": {
      "byteLimit": 2048000,
      "rowLimit": 10000
     },
     "inputWidgets": {},
     "nuid": "ede6593a-d860-42af-bddf-479f19440cf4",
     "showTitle": false,
     "title": ""
    }
   },
   "outputs": [],
   "source": [
    "speeds_df.edge.nunique()"
   ]
  },
  {
   "cell_type": "code",
   "execution_count": null,
   "metadata": {
    "application/vnd.databricks.v1+cell": {
     "cellMetadata": {
      "byteLimit": 2048000,
      "rowLimit": 10000
     },
     "inputWidgets": {},
     "nuid": "c0c9618b-9f62-4c98-ad18-4e114ab6d068",
     "showTitle": false,
     "title": ""
    }
   },
   "outputs": [],
   "source": [
    "# Create a graph from Speed data\n",
    "bolt_data_graph = nx.Graph()\n",
    "bolt_data_graph.add_edges_from(speeds_df.edge.unique())\n",
    "num_of_nodes = len(bolt_data_graph.nodes)\n",
    "\n",
    "# get all relevant node ids from speed data\n",
    "node_ids = list(set(speeds_df.start_node).union(set(speeds_df.end_node)))\n",
    "\n",
    "# get lat\\lng info from pbf nodes and add it as node attributes to bolt graph\n",
    "node_dict = nodes.set_index(\"id\").loc[node_ids][[\"lat\", \"lon\"]].T.to_dict()\n",
    "bolt_data_graph.add_nodes_from(node_dict.items())\n",
    "assert num_of_nodes == len(bolt_data_graph.nodes)"
   ]
  },
  {
   "cell_type": "code",
   "execution_count": null,
   "metadata": {
    "application/vnd.databricks.v1+cell": {
     "cellMetadata": {
      "byteLimit": 2048000,
      "rowLimit": 10000
     },
     "inputWidgets": {},
     "nuid": "73802bc8-0462-470b-ad2f-8170862c7e31",
     "showTitle": false,
     "title": ""
    }
   },
   "outputs": [],
   "source": [
    "m = folium.Map(location=[44.435608, 26.102297], zoom_start=15)\n",
    "\n",
    "# Add edges to the map\n",
    "node_data = bolt_data_graph.nodes(data=True)\n",
    "for u, v in bolt_data_graph.edges:\n",
    "    x0, y0 = node_data[u][\"lat\"], node_data[u][\"lon\"]\n",
    "    x1, y1 = node_data[v][\"lat\"], node_data[v][\"lon\"]\n",
    "    folium.PolyLine(locations=[(x0, y0), (x1, y1)], color='blue').add_to(m)\n",
    "\n",
    "m"
   ]
  },
  {
   "cell_type": "code",
   "execution_count": null,
   "metadata": {
    "application/vnd.databricks.v1+cell": {
     "cellMetadata": {
      "byteLimit": 2048000,
      "rowLimit": 10000
     },
     "inputWidgets": {},
     "nuid": "3aa0049e-ecfb-4c5a-aebb-b30de893d401",
     "showTitle": false,
     "title": ""
    }
   },
   "outputs": [],
   "source": [
    "bolt_data_graph.number_of_nodes(), bolt_data_graph.number_of_edges()"
   ]
  },
  {
   "cell_type": "markdown",
   "metadata": {
    "application/vnd.databricks.v1+cell": {
     "cellMetadata": {},
     "inputWidgets": {},
     "nuid": "10d3c6f9-182d-4a8d-9314-94772d43931f",
     "showTitle": false,
     "title": ""
    }
   },
   "source": [
    "## Extract a k-hop neighbourhood around a node of interest"
   ]
  },
  {
   "cell_type": "code",
   "execution_count": null,
   "metadata": {
    "application/vnd.databricks.v1+cell": {
     "cellMetadata": {
      "byteLimit": 2048000,
      "rowLimit": 10000
     },
     "inputWidgets": {},
     "nuid": "b9c1cb09-95d9-4a02-8189-3cc9ec1d0e7c",
     "showTitle": false,
     "title": ""
    }
   },
   "outputs": [],
   "source": [
    "central_node_id = 2389982923 # Some popular node in the city centre of Bucharest\n",
    "k_hop_subgraph = nx.ego_graph(bolt_data_graph, n=central_node_id, radius=20, undirected=True)"
   ]
  },
  {
   "cell_type": "code",
   "execution_count": null,
   "metadata": {
    "application/vnd.databricks.v1+cell": {
     "cellMetadata": {
      "byteLimit": 2048000,
      "rowLimit": 10000
     },
     "inputWidgets": {},
     "nuid": "92ce0c67-2a93-4390-adf9-441918c478b4",
     "showTitle": false,
     "title": ""
    }
   },
   "outputs": [],
   "source": [
    "k_hop_subgraph.number_of_nodes(), k_hop_subgraph.number_of_edges()"
   ]
  },
  {
   "cell_type": "code",
   "execution_count": null,
   "metadata": {
    "application/vnd.databricks.v1+cell": {
     "cellMetadata": {
      "byteLimit": 2048000,
      "rowLimit": 10000
     },
     "inputWidgets": {},
     "nuid": "cc28a881-2285-4376-b6df-d87e79663264",
     "showTitle": false,
     "title": ""
    }
   },
   "outputs": [],
   "source": [
    "k_hop_subgraph_reversed_edges = {(y, x) for (x, y) in k_hop_subgraph.edges}"
   ]
  },
  {
   "cell_type": "code",
   "execution_count": null,
   "metadata": {
    "application/vnd.databricks.v1+cell": {
     "cellMetadata": {
      "byteLimit": 2048000,
      "rowLimit": 10000
     },
     "inputWidgets": {},
     "nuid": "e91aa887-65f4-4b0e-99f4-3a6391df79b9",
     "showTitle": false,
     "title": ""
    }
   },
   "outputs": [],
   "source": [
    "subgraph_speeds_df = speeds_df[speeds_df.edge.isin(set(k_hop_subgraph.edges) | set(k_hop_subgraph_reversed_edges))]\n",
    "subgraph_speeds_df.shape"
   ]
  },
  {
   "cell_type": "code",
   "execution_count": null,
   "metadata": {
    "application/vnd.databricks.v1+cell": {
     "cellMetadata": {
      "byteLimit": 2048000,
      "rowLimit": 10000
     },
     "inputWidgets": {},
     "nuid": "cb794264-3a2d-4c81-ae4b-1637c54da10b",
     "showTitle": false,
     "title": ""
    }
   },
   "outputs": [],
   "source": [
    "UNIQUE_EDGES = subgraph_speeds_df.edge.unique()\n",
    "len(UNIQUE_EDGES)"
   ]
  },
  {
   "cell_type": "code",
   "execution_count": null,
   "metadata": {
    "application/vnd.databricks.v1+cell": {
     "cellMetadata": {
      "byteLimit": 2048000,
      "rowLimit": 10000
     },
     "inputWidgets": {},
     "nuid": "e74714f3-b89b-4ba1-9c9b-1c1720f1b97b",
     "showTitle": false,
     "title": ""
    }
   },
   "outputs": [],
   "source": [
    "m = folium.Map(location=[44.435608, 26.102297], zoom_start=15)\n",
    "\n",
    "# Add edges to the map\n",
    "for u, v in k_hop_subgraph.edges():\n",
    "    x0, y0 = nodes[nodes[\"id\"] == u][[\"lat\", \"lon\"]].iloc[0]\n",
    "    x1, y1 = nodes[nodes[\"id\"] == v][[\"lat\", \"lon\"]].iloc[0]\n",
    "    folium.PolyLine(locations=[(x0, y0), (x1, y1)], color='blue', weight=5).add_to(m)\n",
    "\n",
    "# Add nodes to the map\n",
    "for node in k_hop_subgraph.nodes():\n",
    "    x, y = nodes[nodes[\"id\"] == node][[\"lat\", \"lon\"]].iloc[0]\n",
    "    folium.CircleMarker(location=(x, y), radius=5, color='red', fill=True, fill_color='red').add_to(m)\n",
    "\n",
    "m"
   ]
  },
  {
   "cell_type": "markdown",
   "metadata": {
    "application/vnd.databricks.v1+cell": {
     "cellMetadata": {
      "byteLimit": 2048000,
      "rowLimit": 10000
     },
     "inputWidgets": {},
     "nuid": "ec8da1ae-d1e8-46fb-ace3-ebf8a3c158ba",
     "showTitle": false,
     "title": ""
    }
   },
   "source": [
    "# Prepare the dataset for a GNN"
   ]
  },
  {
   "cell_type": "markdown",
   "metadata": {
    "application/vnd.databricks.v1+cell": {
     "cellMetadata": {},
     "inputWidgets": {},
     "nuid": "39140efe-185a-4899-914e-ac5528b621e7",
     "showTitle": false,
     "title": ""
    }
   },
   "source": [
    "## Install and import Pytorch libs "
   ]
  },
  {
   "cell_type": "code",
   "execution_count": null,
   "metadata": {
    "application/vnd.databricks.v1+cell": {
     "cellMetadata": {
      "byteLimit": 2048000,
      "rowLimit": 10000
     },
     "inputWidgets": {},
     "nuid": "7d9867b8-df05-4dfe-98cd-024af3dc8885",
     "showTitle": false,
     "title": ""
    }
   },
   "outputs": [],
   "source": [
    "!pip install torch torchvision torchaudio --index-url https://download.pytorch.org/whl/cpu"
   ]
  },
  {
   "cell_type": "code",
   "execution_count": null,
   "metadata": {
    "application/vnd.databricks.v1+cell": {
     "cellMetadata": {
      "byteLimit": 2048000,
      "rowLimit": 10000
     },
     "inputWidgets": {},
     "nuid": "971d7be9-a6cd-4215-a18d-75706d8106ab",
     "showTitle": false,
     "title": ""
    }
   },
   "outputs": [],
   "source": [
    "import torch\n",
    "!pip install -q torch-scatter~=2.1.0 torch-sparse~=0.6.16 torch-cluster~=1.6.0 torch-spline-conv~=1.2.1 torch-geometric==2.2.0 -f https://data.pyg.org/whl/torch-{torch.__version__}.html\n",
    "!pip install -q torch-geometric-temporal==0.54.0\n",
    "\n",
    "torch.manual_seed(0)\n",
    "torch.cuda.manual_seed(0)\n",
    "torch.cuda.manual_seed_all(0)\n",
    "torch.backends.cudnn.deterministic = True\n",
    "torch.backends.cudnn.benchmark = False"
   ]
  },
  {
   "cell_type": "code",
   "execution_count": null,
   "metadata": {
    "application/vnd.databricks.v1+cell": {
     "cellMetadata": {
      "byteLimit": 2048000,
      "rowLimit": 10000
     },
     "inputWidgets": {},
     "nuid": "a009cf46-07dd-4f33-9913-0e6bb681b6f0",
     "showTitle": false,
     "title": ""
    }
   },
   "outputs": [],
   "source": [
    "from torch import nn\n",
    "from torch_geometric.nn import GATv2Conv as GAT\n",
    "from torch_geometric_temporal.signal import StaticGraphTemporalSignal, temporal_signal_split"
   ]
  },
  {
   "cell_type": "code",
   "execution_count": null,
   "metadata": {
    "application/vnd.databricks.v1+cell": {
     "cellMetadata": {
      "byteLimit": 2048000,
      "rowLimit": 10000
     },
     "inputWidgets": {},
     "nuid": "dba610b4-4d7a-4a13-9ba8-94565ec427dd",
     "showTitle": false,
     "title": ""
    }
   },
   "outputs": [],
   "source": [
    "subgraph_speeds_df[\"day\"] = subgraph_speeds_df.minute_bucket.dt.weekday\n",
    "subgraph_speeds_df[\"hour\"] = subgraph_speeds_df.minute_bucket.dt.hour\n",
    "subgraph_speeds_df[\"minute\"] = subgraph_speeds_df.minute_bucket.dt.minute"
   ]
  },
  {
   "cell_type": "code",
   "execution_count": null,
   "metadata": {
    "application/vnd.databricks.v1+cell": {
     "cellMetadata": {
      "byteLimit": 2048000,
      "rowLimit": 10000
     },
     "inputWidgets": {},
     "nuid": "163ee48f-3d01-4804-868f-d647aa873615",
     "showTitle": false,
     "title": ""
    }
   },
   "outputs": [],
   "source": [
    "train_subgraph_speeds_df = subgraph_speeds_df[subgraph_speeds_df.minute_bucket <= subgraph_speeds_df.minute_bucket.max() - pd.Timedelta(1, 'W')]"
   ]
  },
  {
   "cell_type": "code",
   "execution_count": null,
   "metadata": {
    "application/vnd.databricks.v1+cell": {
     "cellMetadata": {
      "byteLimit": 2048000,
      "rowLimit": 10000
     },
     "inputWidgets": {},
     "nuid": "f056208f-5099-402f-86c3-9f9f7c19ab05",
     "showTitle": false,
     "title": ""
    }
   },
   "outputs": [],
   "source": [
    "MEAN_SPEED = train_subgraph_speeds_df.speed_kmh.mean()\n",
    "EDGE_AVG_DICT = train_subgraph_speeds_df[[\"speed_kmh\", \"edge\"]].groupby(\"edge\").mean().astype(int).to_dict()[\"speed_kmh\"]\n",
    "EDGE_15_MIN_BUCKET_DICT = train_subgraph_speeds_df.groupby([\"edge\", \"day\", \"hour\", \"minute\"])[\"speed_kmh\"].mean().to_dict()"
   ]
  },
  {
   "cell_type": "code",
   "execution_count": null,
   "metadata": {
    "application/vnd.databricks.v1+cell": {
     "cellMetadata": {},
     "inputWidgets": {},
     "nuid": "cfeae392-cb8a-49d8-8a3d-eaf8fa354cc0",
     "showTitle": false,
     "title": ""
    }
   },
   "outputs": [],
   "source": [
    "TRAIN_DATE_RANGE = pd.date_range(train_subgraph_speeds_df.minute_bucket.min(), train_subgraph_speeds_df.minute_bucket.max(), freq=\"15min\")\n",
    "VALID_DATE_RANGE = pd.date_range(train_subgraph_speeds_df.minute_bucket.max(), subgraph_speeds_df.minute_bucket.max(), freq=\"15min\", inclusive=\"right\")\n",
    "len(TRAIN_DATE_RANGE), len(VALID_DATE_RANGE)"
   ]
  },
  {
   "cell_type": "code",
   "execution_count": null,
   "metadata": {
    "application/vnd.databricks.v1+cell": {
     "cellMetadata": {
      "byteLimit": 2048000,
      "rowLimit": 10000
     },
     "inputWidgets": {},
     "nuid": "5f42c329-adf8-4b74-8597-8a15bfe62fcc",
     "showTitle": false,
     "title": ""
    }
   },
   "outputs": [],
   "source": [
    "edge_idx_map = {edge: i for i, edge in enumerate(UNIQUE_EDGES)}\n",
    "idx_edge_map = {i: edge for i, edge in enumerate(UNIQUE_EDGES)}"
   ]
  },
  {
   "cell_type": "code",
   "execution_count": null,
   "metadata": {
    "application/vnd.databricks.v1+cell": {
     "cellMetadata": {
      "byteLimit": 2048000,
      "rowLimit": 10000
     },
     "inputWidgets": {},
     "nuid": "c06f8563-bf0c-4411-bd95-1726a2be1bf9",
     "showTitle": false,
     "title": ""
    }
   },
   "outputs": [],
   "source": [
    "SPEED_FEATURES = ['speed_kmh', 'speed_kmh_lag_15_m', 'speed_kmh_lag_30_m', 'speed_kmh_lag_45_m',\n",
    "       'speed_kmh_lag_60_m', 'speed_kmh_lag_1_W', 'speed_kmh_lag_2_W', 'speed_kmh_lag_3_W']"
   ]
  },
  {
   "cell_type": "markdown",
   "metadata": {
    "application/vnd.databricks.v1+cell": {
     "cellMetadata": {},
     "inputWidgets": {},
     "nuid": "3f325376-cbff-4640-97f1-1eb9d827fb61",
     "showTitle": false,
     "title": ""
    }
   },
   "source": [
    "## Imputation of missing values with global edge mean speed"
   ]
  },
  {
   "cell_type": "code",
   "execution_count": null,
   "metadata": {
    "application/vnd.databricks.v1+cell": {
     "cellMetadata": {
      "byteLimit": 2048000,
      "rowLimit": 10000
     },
     "inputWidgets": {},
     "nuid": "ee051ccc-bbb4-462c-a145-11492e53e2e2",
     "showTitle": false,
     "title": ""
    }
   },
   "outputs": [],
   "source": [
    "xs = []\n",
    "ys = []\n",
    "for minute_bucket, minute_bucket_group in tqdm(subgraph_speeds_df.groupby(\"minute_bucket\")):\n",
    "    edge_dict = minute_bucket_group[[\"edge\"] + SPEED_FEATURES].set_index(\"edge\").to_dict()\n",
    "    measurements = []\n",
    "    targets = []\n",
    "    for edge in UNIQUE_EDGES:\n",
    "        row = []\n",
    "        for feature in SPEED_FEATURES:\n",
    "            col = edge_dict[feature].get(edge, EDGE_AVG_DICT.get(edge, MEAN_SPEED))\n",
    "            col = EDGE_AVG_DICT.get(edge, MEAN_SPEED) if math.isnan(col) else col\n",
    "            row.append(col)\n",
    "        measurements.append(row)\n",
    "        target = edge_dict[\"speed_kmh\"].get(edge, EDGE_AVG_DICT.get(edge, MEAN_SPEED))\n",
    "        target = EDGE_AVG_DICT.get(edge, MEAN_SPEED) if math.isnan(col) else target\n",
    "        targets.append(target)\n",
    "    xs.append(measurements)\n",
    "    ys.append(targets)\n",
    "xs = np.array(xs, dtype=np.float32)\n",
    "ys = np.array(ys, dtype=np.float32)"
   ]
  },
  {
   "cell_type": "code",
   "execution_count": null,
   "metadata": {
    "application/vnd.databricks.v1+cell": {
     "cellMetadata": {
      "byteLimit": 2048000,
      "rowLimit": 10000
     },
     "inputWidgets": {},
     "nuid": "86735257-258d-4e3b-9f43-b65bc5eecc8d",
     "showTitle": false,
     "title": ""
    }
   },
   "outputs": [],
   "source": [
    "xs.shape, ys.shape"
   ]
  },
  {
   "cell_type": "markdown",
   "metadata": {
    "application/vnd.databricks.v1+cell": {
     "cellMetadata": {},
     "inputWidgets": {},
     "nuid": "3bd39da6-1ab8-4d6b-94c9-43651b882b6b",
     "showTitle": false,
     "title": ""
    }
   },
   "source": [
    "## Split the dataset"
   ]
  },
  {
   "cell_type": "code",
   "execution_count": null,
   "metadata": {
    "application/vnd.databricks.v1+cell": {
     "cellMetadata": {
      "byteLimit": 2048000,
      "rowLimit": 10000
     },
     "inputWidgets": {},
     "nuid": "4509639d-ba36-4340-ae63-d646c6f55c35",
     "showTitle": false,
     "title": ""
    }
   },
   "outputs": [],
   "source": [
    "adjacency_matrix = np.zeros((len(UNIQUE_EDGES), len(UNIQUE_EDGES)))\n",
    "\n",
    "for i, edge_i in enumerate(UNIQUE_EDGES):\n",
    "    for j, edge_j in enumerate(UNIQUE_EDGES):\n",
    "        if set(edge_i).intersection(set(edge_j)):\n",
    "            adjacency_matrix[i, j] = 1\n",
    "            adjacency_matrix[j, i] = 1\n",
    "\n",
    "adjacency_matrix = adjacency_matrix.astype(np.float32)\n",
    "edge_index = (np.array(adjacency_matrix) > 0).nonzero()"
   ]
  },
  {
   "cell_type": "code",
   "execution_count": null,
   "metadata": {
    "application/vnd.databricks.v1+cell": {
     "cellMetadata": {
      "byteLimit": 2048000,
      "rowLimit": 10000
     },
     "inputWidgets": {},
     "nuid": "7f0675de-a707-4ac3-9597-2d86e25eda81",
     "showTitle": false,
     "title": ""
    }
   },
   "outputs": [],
   "source": [
    "dataset = StaticGraphTemporalSignal(edge_index, adjacency_matrix[adjacency_matrix>0], xs, ys)\n",
    "dataset[0]"
   ]
  },
  {
   "cell_type": "code",
   "execution_count": null,
   "metadata": {
    "application/vnd.databricks.v1+cell": {
     "cellMetadata": {
      "byteLimit": 2048000,
      "rowLimit": 10000
     },
     "inputWidgets": {},
     "nuid": "fb7685fc-00f9-4eac-9760-9917d7244791",
     "showTitle": false,
     "title": ""
    }
   },
   "outputs": [],
   "source": [
    "train_dataset, valid_dataset = temporal_signal_split(dataset, train_ratio=4/5)\n",
    "train_dataset.snapshot_count, valid_dataset.snapshot_count"
   ]
  },
  {
   "cell_type": "markdown",
   "metadata": {
    "application/vnd.databricks.v1+cell": {
     "cellMetadata": {},
     "inputWidgets": {},
     "nuid": "2c7bcd8d-caaf-4563-adf8-e18bc8e7a66d",
     "showTitle": false,
     "title": ""
    }
   },
   "source": [
    "# Create a Dummy GNN model"
   ]
  },
  {
   "cell_type": "code",
   "execution_count": null,
   "metadata": {
    "application/vnd.databricks.v1+cell": {
     "cellMetadata": {
      "byteLimit": 2048000,
      "rowLimit": 10000
     },
     "inputWidgets": {},
     "nuid": "06387ab1-8a43-4ad3-b1cf-a99eb13fedfc",
     "showTitle": false,
     "title": ""
    }
   },
   "outputs": [],
   "source": [
    "class DummyGNN(nn.Module):\n",
    "    def __init__(self, num_nodes, in_channels, hidden_channels, out_channels):\n",
    "        super(DummyGNN, self).__init__()\n",
    "        self.lin1 = nn.Linear(in_channels, hidden_channels)\n",
    "        self.relu1 = nn.ReLU()\n",
    "        self.gat = GAT(hidden_channels, hidden_channels, edge_dim=hidden_channels)\n",
    "        self.lin2 = nn.Linear(hidden_channels, hidden_channels)\n",
    "        self.relu2 = nn.ReLU()\n",
    "        self.lin3 = nn.Linear(hidden_channels, out_channels)\n",
    "\n",
    "    def forward(self, edge_index, edge_attr, x):\n",
    "        hidden_state = self.relu1(self.lin1(x))\n",
    "        hidden_state = self.gat(hidden_state, edge_index)\n",
    "        hidden_state = self.relu2(self.lin2(hidden_state))\n",
    "        return self.lin3(hidden_state)"
   ]
  },
  {
   "cell_type": "markdown",
   "metadata": {
    "application/vnd.databricks.v1+cell": {
     "cellMetadata": {},
     "inputWidgets": {},
     "nuid": "646d9a7c-36c5-4539-baea-6bd4948bea5e",
     "showTitle": false,
     "title": ""
    }
   },
   "source": [
    "# Training"
   ]
  },
  {
   "cell_type": "code",
   "execution_count": null,
   "metadata": {
    "application/vnd.databricks.v1+cell": {
     "cellMetadata": {
      "byteLimit": 2048000,
      "rowLimit": 10000
     },
     "inputWidgets": {},
     "nuid": "e980297f-d51e-4bd8-87e1-29248a51d377",
     "showTitle": false,
     "title": ""
    }
   },
   "outputs": [],
   "source": [
    "def plot_curves(losses):\n",
    "    plt.plot(range(len(losses)), losses, label=[\"Train\", \"Validation\"])\n",
    "    plt.legend()\n",
    "    plt.xlabel(\"Epochs\")\n",
    "    plt.ylabel(\"Mean Squared Error\")\n",
    "    plt.title(\"Learning curves for a simple GNN\")\n",
    "    plt.show()\n",
    "\n",
    "def train(train_dataset, valid_dataset, epochs=10):\n",
    "    # TODO: Add data imputation here\n",
    "\n",
    "    model = DummyGNN(len(UNIQUE_EDGES), len(SPEED_FEATURES), 32, 1)\n",
    "    optimiser = torch.optim.AdamW(model.parameters(), lr=1e-3, weight_decay=1e-3)\n",
    "    mse = torch.nn.MSELoss()\n",
    "    model.train()\n",
    "\n",
    "    losses = []\n",
    "    for epoch in range(1, epochs+1):\n",
    "        model.train()\n",
    "        loss = 0\n",
    "        for snapshot in train_dataset:\n",
    "            y_pred = model(snapshot.edge_index, snapshot.edge_attr, snapshot.x)\n",
    "            loss += mse(y_pred.flatten(), snapshot.y)\n",
    "        loss /= train_dataset.snapshot_count \n",
    "\n",
    "        loss.backward()\n",
    "        optimiser.step()\n",
    "        optimiser.zero_grad()\n",
    "\n",
    "        model.eval()\n",
    "        val_loss = 0\n",
    "        for snapshot in valid_dataset:\n",
    "            y_pred = model(snapshot.edge_index, snapshot.edge_attr, snapshot.x)\n",
    "            val_loss += mse(y_pred.flatten(), snapshot.y)\n",
    "        val_loss /= valid_dataset.snapshot_count\n",
    "\n",
    "        if epoch % 5 == 0:\n",
    "            print(f\"Epoch {epoch:>2} | Train MSE: {loss:.4f} | Valid MSE: {val_loss:.4f}\")\n",
    "\n",
    "        losses.append((loss.detach().numpy(), val_loss.detach().numpy()))\n",
    "\n",
    "        if (loss - val_loss).abs() < 0.01:\n",
    "            print(f\"Triggered early stopping on epoch: {epoch}\")\n",
    "            break\n",
    "\n",
    "    plot_curves(losses)\n",
    "    return model"
   ]
  },
  {
   "cell_type": "code",
   "execution_count": null,
   "metadata": {
    "application/vnd.databricks.v1+cell": {
     "cellMetadata": {},
     "inputWidgets": {},
     "nuid": "07ca4202-6822-4900-9a2a-ae2e845cc8ff",
     "showTitle": false,
     "title": ""
    }
   },
   "outputs": [],
   "source": [
    "# TODO: adding evalution on the test set\n",
    "# Different "
   ]
  },
  {
   "cell_type": "markdown",
   "metadata": {
    "application/vnd.databricks.v1+cell": {
     "cellMetadata": {},
     "inputWidgets": {},
     "nuid": "9ecc235c-b719-4790-b9fd-4a277e3c96c0",
     "showTitle": false,
     "title": ""
    }
   },
   "source": [
    "## Training with data imputation by edge mean speed"
   ]
  },
  {
   "cell_type": "code",
   "execution_count": null,
   "metadata": {
    "application/vnd.databricks.v1+cell": {
     "cellMetadata": {
      "byteLimit": 2048000,
      "rowLimit": 10000
     },
     "inputWidgets": {},
     "nuid": "fa374bb6-0412-43b4-9433-e9e598b10f28",
     "showTitle": false,
     "title": ""
    }
   },
   "outputs": [],
   "source": [
    "model = train(train_dataset, valid_dataset, epochs=200)"
   ]
  },
  {
   "cell_type": "code",
   "execution_count": null,
   "metadata": {
    "application/vnd.databricks.v1+cell": {
     "cellMetadata": {
      "byteLimit": 2048000,
      "rowLimit": 10000
     },
     "inputWidgets": {},
     "nuid": "2d140bbd-bc27-48ad-b93c-00a7229d6b27",
     "showTitle": false,
     "title": ""
    }
   },
   "outputs": [],
   "source": [
    "torch.save(model, \"gnn_k20_5weeks_200epochs.pth\")\n",
    "s3.upload_file(\"gnn_k20_5weeks_200epochs.pth\", S3_BUCKET, f\"{S3_SUBDIR}/models/gnn_k20_5weeks_200epochs.pth\")"
   ]
  },
  {
   "cell_type": "markdown",
   "metadata": {
    "application/vnd.databricks.v1+cell": {
     "cellMetadata": {
      "byteLimit": 2048000,
      "rowLimit": 10000
     },
     "inputWidgets": {},
     "nuid": "847b46a9-21eb-4acb-86ef-a577fff553b4",
     "showTitle": false,
     "title": ""
    }
   },
   "source": [
    "# Naive baselines"
   ]
  },
  {
   "cell_type": "code",
   "execution_count": null,
   "metadata": {
    "application/vnd.databricks.v1+cell": {
     "cellMetadata": {
      "byteLimit": 2048000,
      "rowLimit": 10000
     },
     "inputWidgets": {},
     "nuid": "cd20d3e2-eaad-40b6-9fe9-1d8704ef19c7",
     "showTitle": false,
     "title": ""
    }
   },
   "outputs": [],
   "source": [
    "def evaluate_global_mean_baseline(dataset):\n",
    "    mse = 0\n",
    "    for snapshot in dataset:\n",
    "        mse += ((MEAN_SPEED - snapshot.y)**2).sum()\n",
    "    mse /= dataset.snapshot_count * len(UNIQUE_EDGES)\n",
    "    return mse\n",
    "\n",
    "def evaluate_edge_average_baseline(dataset):\n",
    "    mse = 0\n",
    "    for j, snapshot in enumerate(dataset):\n",
    "        for i, edge in enumerate(UNIQUE_EDGES):\n",
    "            mse += (EDGE_AVG_DICT.get(edge, MEAN_SPEED) - snapshot.y[i])**2\n",
    "    mse /= dataset.snapshot_count * len(UNIQUE_EDGES)\n",
    "    return mse\n",
    "\n",
    "def edge_time_naive(edge, timestamp):\n",
    "    weekday = timestamp.weekday()\n",
    "    hour = timestamp.hour\n",
    "    minute = timestamp.minute\n",
    "    return EDGE_15_MIN_BUCKET_DICT.get((edge, weekday, hour, minute), EDGE_AVG_DICT.get(edge, MEAN_SPEED))\n",
    "\n",
    "def evaluate_edge_time_average_baseline(dataset, date_range):\n",
    "    mse = 0\n",
    "    for j, (timestamp, snapshot) in enumerate(zip(date_range, dataset)):\n",
    "        for i, edge in enumerate(UNIQUE_EDGES):\n",
    "            mse += (edge_time_naive(edge, timestamp) - snapshot.y[i])**2\n",
    "    mse /= dataset.snapshot_count * len(UNIQUE_EDGES)\n",
    "    return mse"
   ]
  },
  {
   "cell_type": "markdown",
   "metadata": {
    "application/vnd.databricks.v1+cell": {
     "cellMetadata": {},
     "inputWidgets": {},
     "nuid": "915a3431-8563-43f0-8a07-1e4c5711f366",
     "showTitle": false,
     "title": ""
    }
   },
   "source": [
    "## Baselines with edge average imputation"
   ]
  },
  {
   "cell_type": "markdown",
   "metadata": {
    "application/vnd.databricks.v1+cell": {
     "cellMetadata": {},
     "inputWidgets": {},
     "nuid": "b6497af9-45b7-4be8-8ab6-5664ab900b74",
     "showTitle": false,
     "title": ""
    }
   },
   "source": [
    "### Global average baseline"
   ]
  },
  {
   "cell_type": "code",
   "execution_count": null,
   "metadata": {
    "application/vnd.databricks.v1+cell": {
     "cellMetadata": {
      "byteLimit": 2048000,
      "rowLimit": 10000
     },
     "inputWidgets": {},
     "nuid": "d846fa58-53c2-45cb-9e84-b0bdf110fcb9",
     "showTitle": false,
     "title": ""
    }
   },
   "outputs": [],
   "source": [
    "evaluate_global_mean_baseline(train_dataset), evaluate_global_mean_baseline(valid_dataset)"
   ]
  },
  {
   "cell_type": "markdown",
   "metadata": {
    "application/vnd.databricks.v1+cell": {
     "cellMetadata": {},
     "inputWidgets": {},
     "nuid": "0205c644-77ac-49a4-a097-3295b704eb85",
     "showTitle": false,
     "title": ""
    }
   },
   "source": [
    "### Edge average baseline"
   ]
  },
  {
   "cell_type": "code",
   "execution_count": null,
   "metadata": {
    "application/vnd.databricks.v1+cell": {
     "cellMetadata": {
      "byteLimit": 2048000,
      "rowLimit": 10000
     },
     "inputWidgets": {},
     "nuid": "b5312227-8e68-46ad-ac4d-265e744ec585",
     "showTitle": false,
     "title": ""
    }
   },
   "outputs": [],
   "source": [
    "evaluate_edge_average_baseline(train_dataset), evaluate_edge_average_baseline(valid_dataset)"
   ]
  },
  {
   "cell_type": "markdown",
   "metadata": {
    "application/vnd.databricks.v1+cell": {
     "cellMetadata": {},
     "inputWidgets": {},
     "nuid": "af503bb1-e407-4047-ba0f-814d90c1c085",
     "showTitle": false,
     "title": ""
    }
   },
   "source": [
    "### Baseline with average per edge, weekday, hour and 15-minute interval"
   ]
  },
  {
   "cell_type": "code",
   "execution_count": null,
   "metadata": {
    "application/vnd.databricks.v1+cell": {
     "cellMetadata": {
      "byteLimit": 2048000,
      "rowLimit": 10000
     },
     "inputWidgets": {},
     "nuid": "fdcd2683-3f38-4d86-8e22-40e6cc728d26",
     "showTitle": false,
     "title": ""
    }
   },
   "outputs": [],
   "source": [
    "evaluate_edge_time_average_baseline(train_dataset, TRAIN_DATE_RANGE), evaluate_edge_time_average_baseline(valid_dataset, VALID_DATE_RANGE)"
   ]
  },
  {
   "cell_type": "markdown",
   "metadata": {
    "application/vnd.databricks.v1+cell": {
     "cellMetadata": {},
     "inputWidgets": {},
     "nuid": "de2c7f73-4f19-4259-8185-eccdafd6d588",
     "showTitle": false,
     "title": ""
    }
   },
   "source": [
    "# Inference"
   ]
  },
  {
   "cell_type": "code",
   "execution_count": null,
   "metadata": {
    "application/vnd.databricks.v1+cell": {
     "cellMetadata": {
      "byteLimit": 2048000,
      "rowLimit": 10000
     },
     "inputWidgets": {},
     "nuid": "fa1bfd21-fe6f-4af1-a8d8-cad89608c9dc",
     "showTitle": false,
     "title": ""
    }
   },
   "outputs": [],
   "source": [
    "def plot_edge_time_series(speeds_df, edge):\n",
    "    one_edge_df = speeds_df[speeds_df.edge == edge][[\"minute_bucket\", \"speed_kmh\"]].sort_values(\"minute_bucket\")\n",
    "\n",
    "    edge_predictions = []\n",
    "    for snapshot in valid_dataset:\n",
    "        y_pred = model(snapshot.edge_index, snapshot.edge_attr, snapshot.x)\n",
    "        edge_predictions.append(y_pred.detach().numpy()[edge_idx_map[edge]])\n",
    "    edge_predictions = np.array(edge_predictions).reshape(-1)\n",
    "\n",
    "    fig = go.Figure()\n",
    "\n",
    "    # Add traces to the figure\n",
    "    fig.add_trace(\n",
    "        go.Scatter(\n",
    "        x=one_edge_df.minute_bucket,\n",
    "        y=one_edge_df.speed_kmh,\n",
    "        mode='markers',\n",
    "        name='Ground Truth'\n",
    "    ))\n",
    "    fig.add_trace(go.Scatter(\n",
    "        x=VALID_DATE_RANGE,\n",
    "        y=edge_predictions,\n",
    "        mode='markers',\n",
    "        name='GNN predictions'\n",
    "    ))\n",
    "    fig.add_trace(go.Scatter(\n",
    "        x=VALID_DATE_RANGE,\n",
    "        y=[edge_time_naive(edge, ts) for ts in VALID_DATE_RANGE],\n",
    "        mode='markers',\n",
    "        name='Naive predictions'\n",
    "    ))\n",
    "\n",
    "    # Update layout with checkboxes\n",
    "    fig.update_layout(\n",
    "        title=f\"Time series for edge {edge}\",\n",
    "        title_x=0.5,\n",
    "        xaxis=dict(\n",
    "            title=\"Time [15-minute bucket]\"\n",
    "        ),\n",
    "        yaxis=dict(\n",
    "            title=\"Speed [km/h]\"\n",
    "        ),\n",
    "        updatemenus=[\n",
    "            dict(\n",
    "                buttons=list([\n",
    "                    dict(label=\"Ground Truth\",\n",
    "                        method=\"update\",\n",
    "                        args=[{\"visible\": [True, False, False]},\n",
    "                            {\"title\": \"Trace 1\"}]),\n",
    "                    dict(label=\"GNN predictions\",\n",
    "                        method=\"update\",\n",
    "                        args=[{\"visible\": [False, True, False]},\n",
    "                            {\"title\": \"Trace 2\"}]),\n",
    "                    dict(label=\"Naive predictions\",\n",
    "                        method=\"update\",\n",
    "                        args=[{\"visible\": [False, False, True]},\n",
    "                            {\"title\": \"Trace 3\"}]),\n",
    "                    dict(label=\"All\",\n",
    "                        method=\"update\",\n",
    "                        args=[{\"visible\": [True, True, True]},\n",
    "                            {\"title\": \"All Traces\"}])\n",
    "                ]),\n",
    "                direction=\"down\",\n",
    "                showactive=True,\n",
    "                x=0.1,\n",
    "                xanchor=\"left\",\n",
    "                y=1.1,\n",
    "                yanchor=\"top\"\n",
    "            ),\n",
    "        ]\n",
    "    )\n",
    "\n",
    "    # Update layout with legend\n",
    "    fig.update_layout(\n",
    "        legend=dict(\n",
    "            orientation=\"h\",\n",
    "            yanchor=\"bottom\",\n",
    "            y=1.02,\n",
    "            xanchor=\"right\",\n",
    "            x=1\n",
    "        )\n",
    "    )\n",
    "    fig.show()\n",
    "\n",
    "\n",
    "def plot_edge(edge_id):\n",
    "    edge = edges[edges.edge == edge_id]\n",
    "    u, v = edge[['u', 'v']].to_numpy().reshape(-1)\n",
    "    m = folium.Map(location=nodes[nodes[\"id\"] == u][[\"lat\", \"lon\"]].iloc[0], zoom_start=20)\n",
    "\n",
    "    # Add edges to the map\n",
    "    x0, y0 = nodes[nodes[\"id\"] == u][[\"lat\", \"lon\"]].iloc[0]\n",
    "    x1, y1 = nodes[nodes[\"id\"] == v][[\"lat\", \"lon\"]].iloc[0]\n",
    "    folium.PolyLine(locations=[(x0, y0), (x1, y1)], color='red', weight=5).add_to(m)\n",
    "\n",
    "    # Add nodes to the map\n",
    "    for node in [u, v]:\n",
    "        x, y = nodes[nodes[\"id\"] == node][[\"lat\", \"lon\"]].iloc[0]\n",
    "        folium.CircleMarker(location=(x, y), radius=5, color='red', fill=True, fill_color='red').add_to(m)\n",
    "\n",
    "    return m"
   ]
  },
  {
   "cell_type": "markdown",
   "metadata": {
    "application/vnd.databricks.v1+cell": {
     "cellMetadata": {},
     "inputWidgets": {},
     "nuid": "ea89c633-4614-4b16-8220-aada6012c7e1",
     "showTitle": false,
     "title": ""
    }
   },
   "source": [
    "## Imputation with edge average"
   ]
  },
  {
   "cell_type": "code",
   "execution_count": null,
   "metadata": {
    "application/vnd.databricks.v1+cell": {
     "cellMetadata": {
      "byteLimit": 2048000,
      "rowLimit": 10000
     },
     "inputWidgets": {},
     "nuid": "d1084030-5082-4783-8499-24cd7cdc16cd",
     "showTitle": false,
     "title": ""
    }
   },
   "outputs": [],
   "source": [
    "import random"
   ]
  },
  {
   "cell_type": "code",
   "execution_count": null,
   "metadata": {
    "application/vnd.databricks.v1+cell": {
     "cellMetadata": {
      "byteLimit": 2048000,
      "rowLimit": 10000
     },
     "inputWidgets": {},
     "nuid": "cc9d8538-5cff-4295-a4a1-20fa63f5d30f",
     "showTitle": false,
     "title": ""
    }
   },
   "outputs": [],
   "source": [
    "random.seed(123)\n",
    "edge_sample = random.choices(UNIQUE_EDGES, k=5)\n",
    "edge_sample"
   ]
  },
  {
   "cell_type": "code",
   "execution_count": null,
   "metadata": {
    "application/vnd.databricks.v1+cell": {
     "cellMetadata": {
      "byteLimit": 2048000,
      "rowLimit": 10000
     },
     "inputWidgets": {},
     "nuid": "1a80b288-b6f5-4b13-9007-44a34ba4aea6",
     "showTitle": false,
     "title": ""
    }
   },
   "outputs": [],
   "source": [
    "plot_edge_time_series(subgraph_speeds_df, (2160093525, 2351320132))"
   ]
  },
  {
   "cell_type": "code",
   "execution_count": null,
   "metadata": {
    "application/vnd.databricks.v1+cell": {
     "cellMetadata": {
      "byteLimit": 2048000,
      "rowLimit": 10000
     },
     "inputWidgets": {},
     "nuid": "1a27cbbf-35e6-494f-af7f-1608269da0ee",
     "showTitle": false,
     "title": ""
    }
   },
   "outputs": [],
   "source": [
    "MEAN_SPEED, EDGE_AVG_DICT[(248729658, 6169982502)]"
   ]
  },
  {
   "cell_type": "code",
   "execution_count": null,
   "metadata": {
    "application/vnd.databricks.v1+cell": {
     "cellMetadata": {
      "byteLimit": 2048000,
      "rowLimit": 10000
     },
     "inputWidgets": {},
     "nuid": "7ec03a14-048b-4d1b-b2aa-17226fc2a6c2",
     "showTitle": false,
     "title": ""
    }
   },
   "outputs": [],
   "source": [
    "plot_edge_time_series(subgraph_speeds_df, (248729658, 6169982502))"
   ]
  },
  {
   "cell_type": "code",
   "execution_count": null,
   "metadata": {
    "application/vnd.databricks.v1+cell": {
     "cellMetadata": {
      "byteLimit": 2048000,
      "rowLimit": 10000
     },
     "inputWidgets": {},
     "nuid": "27e3eafa-d925-48de-8920-ee4258d42318",
     "showTitle": false,
     "title": ""
    }
   },
   "outputs": [],
   "source": [
    "plot_edge_time_series(subgraph_speeds_df, (2351321583, 2160093493))"
   ]
  },
  {
   "cell_type": "code",
   "execution_count": null,
   "metadata": {
    "application/vnd.databricks.v1+cell": {
     "cellMetadata": {
      "byteLimit": 2048000,
      "rowLimit": 10000
     },
     "inputWidgets": {},
     "nuid": "a18346f6-4ad3-47c6-a90c-1a413ee7b331",
     "showTitle": false,
     "title": ""
    }
   },
   "outputs": [],
   "source": [
    "plot_edge_time_series(subgraph_speeds_df, (257717273, 647171071))"
   ]
  },
  {
   "cell_type": "code",
   "execution_count": null,
   "metadata": {
    "application/vnd.databricks.v1+cell": {
     "cellMetadata": {
      "byteLimit": 2048000,
      "rowLimit": 10000
     },
     "inputWidgets": {},
     "nuid": "d8e35085-51c3-44d0-9ecc-e0f7bf8cd64d",
     "showTitle": false,
     "title": ""
    }
   },
   "outputs": [],
   "source": [
    "plot_edge_time_series(subgraph_speeds_df, (6936490726, 647171071))"
   ]
  },
  {
   "cell_type": "code",
   "execution_count": null,
   "metadata": {
    "application/vnd.databricks.v1+cell": {
     "cellMetadata": {},
     "inputWidgets": {},
     "nuid": "35e912e2-4461-4253-9805-7f0759663d52",
     "showTitle": false,
     "title": ""
    }
   },
   "outputs": [],
   "source": []
  }
 ],
 "metadata": {
  "application/vnd.databricks.v1+notebook": {
   "dashboards": [],
   "environmentMetadata": null,
   "language": "python",
   "notebookMetadata": {
    "pythonIndentUnit": 4
   },
   "notebookName": "GNN, k=20 subgraph, 5 weeks",
   "widgets": {}
  },
  "language_info": {
   "name": "python"
  }
 },
 "nbformat": 4,
 "nbformat_minor": 0
}
