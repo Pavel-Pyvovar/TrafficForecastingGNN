{
 "cells": [
  {
   "cell_type": "code",
   "execution_count": null,
   "metadata": {
    "application/vnd.databricks.v1+cell": {
     "cellMetadata": {
      "byteLimit": 2048000,
      "rowLimit": 10000
     },
     "inputWidgets": {},
     "nuid": "1fddcc82-4787-4c56-b1fa-2358bd2b15f3",
     "showTitle": false,
     "title": ""
    }
   },
   "outputs": [],
   "source": [
    "from collections import defaultdict\n",
    "from functools import reduce\n",
    "import os\n",
    "import random\n",
    "\n",
    "import boto3\n",
    "import numpy as np\n",
    "import matplotlib.pyplot as plt\n",
    "import pandas as pd\n",
    "import plotly.graph_objs as go\n",
    "from sklearn.metrics import mean_absolute_error, mean_squared_error, mean_absolute_percentage_error"
   ]
  },
  {
   "cell_type": "code",
   "execution_count": null,
   "metadata": {
    "application/vnd.databricks.v1+cell": {
     "cellMetadata": {
      "byteLimit": 2048000,
      "rowLimit": 10000
     },
     "inputWidgets": {},
     "nuid": "92e2f7bc-e29d-4a40-85d6-af1335555d7b",
     "showTitle": false,
     "title": ""
    }
   },
   "outputs": [],
   "source": [
    "WEEKDAYS = range(7)\n",
    "HOURS = range(24)\n",
    "MINUTES = [0, 15, 30, 45]\n",
    "CITY_ID = 1_000_000\n",
    "FALL_BACK_SPEED = 50\n",
    "\n",
    "S3_BUCKET = \"some_bucket\"\n",
    "S3_SUBDIR = f\"subdir_path\"\n",
    "S3_DATA = \"data\"\n",
    "S3_PREDS = \"model_predictions\"\n",
    "MODELS = [\"ridge_regression_317_edges_7_weeks\", \"lgbm_317_edges_7_weeks\", \"dummygnn_1000_epochs_64_hidden_channels_317_edges_7_weeks\"]\n",
    "DATA_SPLITS = [\"train\", \"valid\", \"test\"]\n",
    "LABEL = \"speed_kmh\"\n",
    "\n",
    "s3 = boto3.client('s3')"
   ]
  },
  {
   "cell_type": "markdown",
   "metadata": {
    "application/vnd.databricks.v1+cell": {
     "cellMetadata": {
      "byteLimit": 2048000,
      "rowLimit": 10000
     },
     "inputWidgets": {},
     "nuid": "305b3e9d-3277-4534-9dba-b0e1d6ccd712",
     "showTitle": false,
     "title": ""
    }
   },
   "source": [
    "# Downloading and matching model predictions"
   ]
  },
  {
   "cell_type": "code",
   "execution_count": null,
   "metadata": {
    "application/vnd.databricks.v1+cell": {
     "cellMetadata": {
      "byteLimit": 2048000,
      "rowLimit": 10000
     },
     "inputWidgets": {},
     "nuid": "0023969d-6517-4b0d-8f38-d1dc8abe4267",
     "showTitle": false,
     "title": ""
    }
   },
   "outputs": [],
   "source": [
    "def merge_several_dataframes(df_list, on):\n",
    "    return reduce(lambda left, right: pd.merge(left, right, on=on, suffixes=['', \"_x\"]), df_list)\n",
    "\n",
    "\n",
    "def load_and_merge():\n",
    "\n",
    "    for model in MODELS:\n",
    "        if not (os.path.exists(model) and len(os.listdir(model)) > 0):\n",
    "            os.makedirs(model)\n",
    "            for split in DATA_SPLITS:\n",
    "                s3.download_file(S3_BUCKET, f\"{S3_SUBDIR}/{S3_PREDS}/{model}/{split}.parquet\", f\"{model}/{split}.parquet\")\n",
    "\n",
    "    datasets_dict = defaultdict()\n",
    "    for split in DATA_SPLITS:\n",
    "        df_list = [pd.read_parquet(f\"{m}/{split}.parquet\").reset_index(drop=True).rename(columns={\"preds\": f\"{m}_speed\"}) for m in MODELS]\n",
    "        merged_df = merge_several_dataframes(df_list, on=[\"start_node\", \"end_node\", \"minute_bucket\"])\n",
    "        merged_df.drop([col for col in merged_df.columns if col.startswith(f\"{LABEL}_\")], inplace=True, axis=1)\n",
    "        datasets_dict[split] = merged_df\n",
    "    return datasets_dict"
   ]
  },
  {
   "cell_type": "code",
   "execution_count": null,
   "metadata": {
    "application/vnd.databricks.v1+cell": {
     "cellMetadata": {
      "byteLimit": 2048000,
      "rowLimit": 10000
     },
     "inputWidgets": {},
     "nuid": "adca5fdc-81d3-4da6-acdf-01ce90ff39dc",
     "showTitle": false,
     "title": ""
    }
   },
   "outputs": [],
   "source": [
    "datasets_dict = load_and_merge()"
   ]
  },
  {
   "cell_type": "code",
   "execution_count": null,
   "metadata": {
    "application/vnd.databricks.v1+cell": {
     "cellMetadata": {
      "byteLimit": 2048000,
      "rowLimit": 10000
     },
     "inputWidgets": {},
     "nuid": "df861c42-fff7-440d-a070-bbd072ce6538",
     "showTitle": false,
     "title": ""
    }
   },
   "outputs": [],
   "source": [
    "datasets_dict[\"train\"].head()"
   ]
  },
  {
   "cell_type": "code",
   "execution_count": null,
   "metadata": {
    "application/vnd.databricks.v1+cell": {
     "cellMetadata": {
      "byteLimit": 2048000,
      "rowLimit": 10000
     },
     "inputWidgets": {},
     "nuid": "ea4f7053-368c-475d-9cd2-0a1006b69566",
     "showTitle": false,
     "title": ""
    }
   },
   "outputs": [],
   "source": [
    "datasets_dict[\"train\"].shape, datasets_dict[\"valid\"].shape, datasets_dict[\"test\"].shape"
   ]
  },
  {
   "cell_type": "code",
   "execution_count": null,
   "metadata": {
    "application/vnd.databricks.v1+cell": {
     "cellMetadata": {
      "byteLimit": 2048000,
      "rowLimit": 10000
     },
     "inputWidgets": {},
     "nuid": "9d946805-c29d-4e3f-a732-16fafd8e3c59",
     "showTitle": false,
     "title": ""
    }
   },
   "outputs": [],
   "source": [
    "merged_df = pd.concat([datasets_dict[\"train\"], datasets_dict[\"valid\"], datasets_dict[\"test\"]])"
   ]
  },
  {
   "cell_type": "markdown",
   "metadata": {
    "application/vnd.databricks.v1+cell": {
     "cellMetadata": {
      "byteLimit": 2048000,
      "rowLimit": 10000
     },
     "inputWidgets": {},
     "nuid": "47f1925c-3808-4803-aa6d-d477e3c66435",
     "showTitle": false,
     "title": ""
    }
   },
   "source": [
    "# Edge error histogram"
   ]
  },
  {
   "cell_type": "code",
   "execution_count": null,
   "metadata": {
    "application/vnd.databricks.v1+cell": {
     "cellMetadata": {
      "byteLimit": 2048000,
      "rowLimit": 10000
     },
     "inputWidgets": {},
     "nuid": "09ccb2e4-328f-455f-9011-990ef298bcbf",
     "showTitle": false,
     "title": ""
    }
   },
   "outputs": [],
   "source": [
    "def calculate_edge_errors(df, pred_col, error_metric):\n",
    "    return df.groupby([\"start_node\", \"end_node\"])[[f\"{pred_col}_speed\", LABEL]]\\\n",
    "        .apply(lambda group_df: error_metric(group_df[f\"{pred_col}_speed\"], group_df[LABEL]))\n",
    "\n",
    "\n",
    "def plot_edge_error_histograms(preds_df, figure_title=None):\n",
    "    mae_df_list = [pd.DataFrame(calculate_edge_errors(preds_df, model, mean_absolute_error), columns=[f\"{model}_mae\"]) for model in MODELS]\n",
    "    mae_df = merge_several_dataframes(mae_df_list, on=[\"start_node\", \"end_node\"])\n",
    "    rmse_df_list = [pd.DataFrame(calculate_edge_errors(preds_df, model, lambda x, y: np.sqrt(mean_squared_error(x, y))), columns=[f\"{model}_rmse\"]) for model in MODELS]\n",
    "    rmse_df = merge_several_dataframes(rmse_df_list, on=[\"start_node\", \"end_node\"])\n",
    "    \n",
    "    min_mae = mae_df.to_numpy().min()\n",
    "    max_mae = mae_df.to_numpy().max()\n",
    "\n",
    "    min_rmse = rmse_df.to_numpy().min()\n",
    "    max_rmse = rmse_df.to_numpy().max()\n",
    "    \n",
    "    fig, axes = plt.subplots(1, 2, figsize=(20, 5))\n",
    "    for model in MODELS:\n",
    "        mae_df[f\"{model}_mae\"].hist(bins=np.linspace(min_mae, max_mae, 10), label=model, histtype=\"step\", ax=axes[0])\n",
    "        rmse_df[f\"{model}_rmse\"].hist(bins=np.linspace(min_rmse, max_rmse, 10), label=model, histtype=\"step\", ax=axes[1])\n",
    "        for i, metric in enumerate([\"MAE\", \"RMSE\"]):\n",
    "            axes[i].legend()\n",
    "            axes[i].set_title(f\"{metric} per edge histogram\")\n",
    "            axes[i].set_xlabel(f\"{metric} range\")\n",
    "            axes[i].set_ylabel(\"Edge count\")\n",
    "    fig.suptitle(figure_title)"
   ]
  },
  {
   "cell_type": "code",
   "execution_count": null,
   "metadata": {
    "application/vnd.databricks.v1+cell": {
     "cellMetadata": {
      "byteLimit": 2048000,
      "rowLimit": 10000
     },
     "inputWidgets": {},
     "nuid": "08e76049-4596-4eeb-8480-43ad4fb1df51",
     "showTitle": false,
     "title": ""
    }
   },
   "outputs": [],
   "source": [
    "plot_edge_error_histograms(datasets_dict[\"train\"])"
   ]
  },
  {
   "cell_type": "code",
   "execution_count": null,
   "metadata": {
    "application/vnd.databricks.v1+cell": {
     "cellMetadata": {
      "byteLimit": 2048000,
      "rowLimit": 10000
     },
     "inputWidgets": {},
     "nuid": "9c95078f-03fb-43cf-b09b-baba913c3c2b",
     "showTitle": false,
     "title": ""
    }
   },
   "outputs": [],
   "source": [
    "plot_edge_error_histograms(datasets_dict[\"valid\"])"
   ]
  },
  {
   "cell_type": "code",
   "execution_count": null,
   "metadata": {
    "application/vnd.databricks.v1+cell": {
     "cellMetadata": {
      "byteLimit": 2048000,
      "rowLimit": 10000
     },
     "inputWidgets": {},
     "nuid": "686af563-f548-4fbe-8130-336eb19dc718",
     "showTitle": false,
     "title": ""
    }
   },
   "outputs": [],
   "source": [
    "plot_edge_error_histograms(datasets_dict[\"test\"])"
   ]
  },
  {
   "cell_type": "markdown",
   "metadata": {
    "application/vnd.databricks.v1+cell": {
     "cellMetadata": {
      "byteLimit": 2048000,
      "rowLimit": 10000
     },
     "inputWidgets": {},
     "nuid": "5e6b236f-9531-44dd-87cb-8f9396a0934e",
     "showTitle": false,
     "title": ""
    }
   },
   "source": [
    "# Compute error metrics"
   ]
  },
  {
   "cell_type": "code",
   "execution_count": null,
   "metadata": {
    "application/vnd.databricks.v1+cell": {
     "cellMetadata": {
      "byteLimit": 2048000,
      "rowLimit": 10000
     },
     "inputWidgets": {},
     "nuid": "881d41ee-1330-400b-970a-6379fdc39129",
     "showTitle": false,
     "title": ""
    }
   },
   "outputs": [],
   "source": [
    "def calc_global_metrics(df):\n",
    "    return pd.DataFrame(\n",
    "        [[mean_absolute_error(df[LABEL], df[f\"{model}_speed\"]),\n",
    "            mean_squared_error(df[LABEL], df[f\"{model}_speed\"]),\n",
    "            np.sqrt(mean_squared_error(df[LABEL], df[f\"{model}_speed\"])),\n",
    "            mean_absolute_percentage_error(df[LABEL], df[f\"{model}_speed\"])] for model in MODELS],\n",
    "        columns=[\"MAE\", \"MSE\", \"RMSE\", \"MAPE\"],\n",
    "        index=MODELS)"
   ]
  },
  {
   "cell_type": "code",
   "execution_count": null,
   "metadata": {
    "application/vnd.databricks.v1+cell": {
     "cellMetadata": {
      "byteLimit": 2048000,
      "rowLimit": 10000
     },
     "inputWidgets": {},
     "nuid": "14ad4c4f-58f6-48ec-a2b2-04231fb38225",
     "showTitle": false,
     "title": ""
    }
   },
   "outputs": [],
   "source": [
    "calc_global_metrics(datasets_dict[\"train\"])"
   ]
  },
  {
   "cell_type": "code",
   "execution_count": null,
   "metadata": {
    "application/vnd.databricks.v1+cell": {
     "cellMetadata": {
      "byteLimit": 2048000,
      "rowLimit": 10000
     },
     "inputWidgets": {},
     "nuid": "829c1a81-22fe-4f72-9a61-606b440f8ae6",
     "showTitle": false,
     "title": ""
    }
   },
   "outputs": [],
   "source": [
    "calc_global_metrics(datasets_dict[\"valid\"])"
   ]
  },
  {
   "cell_type": "code",
   "execution_count": null,
   "metadata": {
    "application/vnd.databricks.v1+cell": {
     "cellMetadata": {
      "byteLimit": 2048000,
      "rowLimit": 10000
     },
     "inputWidgets": {},
     "nuid": "ee1bde38-c63f-4af9-8745-ecddb2164df5",
     "showTitle": false,
     "title": ""
    }
   },
   "outputs": [],
   "source": [
    "calc_global_metrics(datasets_dict[\"test\"])"
   ]
  },
  {
   "cell_type": "code",
   "execution_count": null,
   "metadata": {
    "application/vnd.databricks.v1+cell": {
     "cellMetadata": {
      "byteLimit": 2048000,
      "rowLimit": 10000
     },
     "inputWidgets": {},
     "nuid": "2c1cb42f-ec79-4401-8b00-de1d04fc2492",
     "showTitle": false,
     "title": ""
    }
   },
   "outputs": [],
   "source": [
    "def plot_daily_and_hourly_errors(preds_df, fig_title=None):\n",
    "    preds_df_copy = preds_df.copy()\n",
    "    preds_df_copy[\"weekday\"] = preds_df_copy.minute_bucket.dt.weekday\n",
    "    preds_df_copy[\"hour\"] = preds_df_copy.minute_bucket.dt.hour\n",
    "    fig, axes = plt.subplots(2, 2, figsize=(15, 10))\n",
    "    for i, time in enumerate([\"weekday\", \"hour\"]):\n",
    "        for model in MODELS:\n",
    "            for j, (metric_name, metric_func) in enumerate(\n",
    "                zip([\"MAE\", \"RMSE\"], [mean_absolute_error, lambda x, y: np.sqrt(mean_squared_error(x, y))])):\n",
    "                preds_df_copy.groupby(time).apply(lambda df: metric_func(df[f\"{model}_speed\"], df[LABEL])).plot(label=model, ax=axes[i, j])\n",
    "                axes[i, j].legend()\n",
    "                axes[i, j].set_ylabel(metric_name)\n",
    "                axes[i, j].set_title(f\"{metric_name} per {time}\")\n",
    "                axes[i, j].grid(True)\n",
    "    fig.suptitle(fig_title, fontsize=20)\n",
    "    plt.tight_layout()"
   ]
  },
  {
   "cell_type": "code",
   "execution_count": null,
   "metadata": {
    "application/vnd.databricks.v1+cell": {
     "cellMetadata": {
      "byteLimit": 2048000,
      "rowLimit": 10000
     },
     "inputWidgets": {},
     "nuid": "90d78017-87e3-48e1-b859-4065ff9a491a",
     "showTitle": false,
     "title": ""
    }
   },
   "outputs": [],
   "source": [
    "plot_daily_and_hourly_errors(datasets_dict[\"train\"], \"Model errors aggregated by weekday and hour, training set\")"
   ]
  },
  {
   "cell_type": "code",
   "execution_count": null,
   "metadata": {
    "application/vnd.databricks.v1+cell": {
     "cellMetadata": {
      "byteLimit": 2048000,
      "rowLimit": 10000
     },
     "inputWidgets": {},
     "nuid": "ef9f7c05-4229-4f97-88fe-fe18441e183f",
     "showTitle": false,
     "title": ""
    }
   },
   "outputs": [],
   "source": [
    "plot_daily_and_hourly_errors(datasets_dict[\"valid\"], \"Model errors aggregated by weekday and hour, validation set\")"
   ]
  },
  {
   "cell_type": "code",
   "execution_count": null,
   "metadata": {
    "application/vnd.databricks.v1+cell": {
     "cellMetadata": {
      "byteLimit": 2048000,
      "rowLimit": 10000
     },
     "inputWidgets": {},
     "nuid": "24e0177e-0792-4652-911b-849f8efd8425",
     "showTitle": false,
     "title": ""
    }
   },
   "outputs": [],
   "source": [
    "plot_daily_and_hourly_errors(datasets_dict[\"test\"], \"Model errors aggregated by weekday and hour, testing set\")"
   ]
  },
  {
   "cell_type": "code",
   "execution_count": null,
   "metadata": {
    "application/vnd.databricks.v1+cell": {
     "cellMetadata": {
      "byteLimit": 2048000,
      "rowLimit": 10000
     },
     "inputWidgets": {},
     "nuid": "69e90fdd-e240-467d-9a9b-b07e3721919c",
     "showTitle": false,
     "title": ""
    }
   },
   "outputs": [],
   "source": [
    "def plot_daily_or_hourly_errors(preds_df, col, fig_title=None):\n",
    "    preds_df_copy = preds_df.copy()\n",
    "    preds_df_copy[col] = preds_df_copy.minute_bucket.dt.weekday if col == \"weekday\" else preds_df_copy.minute_bucket.dt.hour\n",
    "    fig, axes = plt.subplots(1, 2, figsize=(14, 5))\n",
    "    for model in MODELS:\n",
    "        for j, (metric_name, metric_func) in enumerate(\n",
    "            zip([\"MAE\", \"RMSE\"], [mean_absolute_error, lambda x, y: np.sqrt(mean_squared_error(x, y))])):\n",
    "            preds_df_copy.groupby(col).apply(lambda df: metric_func(df[f\"{model}_speed\"], df[LABEL])).plot(label=model, ax=axes[j])\n",
    "            axes[j].legend()\n",
    "            axes[j].set_ylabel(metric_name)\n",
    "            axes[j].set_title(f\"{metric_name} per {col}\")\n",
    "            axes[j].grid(True)\n",
    "    fig.suptitle(fig_title, fontsize=20)\n",
    "    plt.tight_layout()"
   ]
  },
  {
   "cell_type": "code",
   "execution_count": null,
   "metadata": {
    "application/vnd.databricks.v1+cell": {
     "cellMetadata": {
      "byteLimit": 2048000,
      "rowLimit": 10000
     },
     "inputWidgets": {},
     "nuid": "bf51dea7-2e0a-4124-829c-a88023c83b3d",
     "showTitle": false,
     "title": ""
    }
   },
   "outputs": [],
   "source": [
    "plot_daily_or_hourly_errors(datasets_dict[\"train\"], \"weekday\", \"Training set\")"
   ]
  },
  {
   "cell_type": "code",
   "execution_count": null,
   "metadata": {
    "application/vnd.databricks.v1+cell": {
     "cellMetadata": {
      "byteLimit": 2048000,
      "rowLimit": 10000
     },
     "inputWidgets": {},
     "nuid": "b5ceb605-bd09-4b64-9d11-68c632fd3306",
     "showTitle": false,
     "title": ""
    }
   },
   "outputs": [],
   "source": [
    "plot_daily_or_hourly_errors(datasets_dict[\"valid\"], \"weekday\", \"Validation set\")"
   ]
  },
  {
   "cell_type": "code",
   "execution_count": null,
   "metadata": {
    "application/vnd.databricks.v1+cell": {
     "cellMetadata": {
      "byteLimit": 2048000,
      "rowLimit": 10000
     },
     "inputWidgets": {},
     "nuid": "43f5ac85-a8d8-47dd-847d-f19d42a0b742",
     "showTitle": false,
     "title": ""
    }
   },
   "outputs": [],
   "source": [
    "plot_daily_or_hourly_errors(datasets_dict[\"test\"], \"weekday\", \"Testing set\")"
   ]
  },
  {
   "cell_type": "code",
   "execution_count": null,
   "metadata": {
    "application/vnd.databricks.v1+cell": {
     "cellMetadata": {
      "byteLimit": 2048000,
      "rowLimit": 10000
     },
     "inputWidgets": {},
     "nuid": "ed59c7c3-d8a9-4f0d-a628-5ed9d5153a4c",
     "showTitle": false,
     "title": ""
    }
   },
   "outputs": [],
   "source": [
    "plot_daily_or_hourly_errors(datasets_dict[\"train\"], \"hour\", \"Training set\")"
   ]
  },
  {
   "cell_type": "code",
   "execution_count": null,
   "metadata": {
    "application/vnd.databricks.v1+cell": {
     "cellMetadata": {
      "byteLimit": 2048000,
      "rowLimit": 10000
     },
     "inputWidgets": {},
     "nuid": "e6973364-9ee3-42d3-92f4-7ff99c7f2894",
     "showTitle": false,
     "title": ""
    }
   },
   "outputs": [],
   "source": [
    "plot_daily_or_hourly_errors(datasets_dict[\"valid\"], \"hour\", \"Validation set\")"
   ]
  },
  {
   "cell_type": "code",
   "execution_count": null,
   "metadata": {
    "application/vnd.databricks.v1+cell": {
     "cellMetadata": {
      "byteLimit": 2048000,
      "rowLimit": 10000
     },
     "inputWidgets": {},
     "nuid": "5714a574-ae5d-4451-a39c-277f021d3cad",
     "showTitle": false,
     "title": ""
    }
   },
   "outputs": [],
   "source": [
    "plot_daily_or_hourly_errors(datasets_dict[\"test\"], \"hour\", \"Testing set\")"
   ]
  },
  {
   "cell_type": "markdown",
   "metadata": {
    "application/vnd.databricks.v1+cell": {
     "cellMetadata": {
      "byteLimit": 2048000,
      "rowLimit": 10000
     },
     "inputWidgets": {},
     "nuid": "6e03aa62-f6aa-4553-819a-dce2b8779223",
     "showTitle": false,
     "title": ""
    }
   },
   "source": [
    "# Edge time series visualisations"
   ]
  },
  {
   "cell_type": "code",
   "execution_count": null,
   "metadata": {
    "application/vnd.databricks.v1+cell": {
     "cellMetadata": {
      "byteLimit": 2048000,
      "rowLimit": 10000
     },
     "inputWidgets": {},
     "nuid": "6bccc406-86ef-46a5-871b-42e1f5c39f50",
     "showTitle": false,
     "title": ""
    }
   },
   "outputs": [],
   "source": [
    "def plot_random_edge_and_neighbours_time_series(speeds_df):\n",
    "    edge = random.choice(UNIQUE_EDGES)\n",
    "    neighbours = [IDX_EDGE_MAP[idx] for idx in np.nonzero(ADJACENCY_MATRIX[EDGE_IDX_MAP[edge]])[0]]\n",
    "    neighbours.remove(edge)\n",
    "    for e in [edge] + neighbours:\n",
    "        plot_edge_time_series(e, speeds_df)\n",
    "    \n",
    "\n",
    "def plot_sequence_of_edges(speeds_df, edge_list):\n",
    "    for e in edge_list:\n",
    "        plot_edge_time_series(e, speeds_df)\n",
    "\n",
    "\n",
    "def plot_edge_time_series(edge, preds_df):\n",
    "    edge_df = preds_df[(preds_df.start_node == edge[0]) & (preds_df.end_node == edge[1])]\n",
    "\n",
    "    fig = go.Figure()\n",
    "\n",
    "    fig.add_trace(\n",
    "        go.Scatter(\n",
    "        x=edge_df.minute_bucket,\n",
    "        y=edge_df.speed_kmh,\n",
    "        mode='markers',\n",
    "        name='Ground Truth'\n",
    "    ))\n",
    "    for model in MODELS:\n",
    "        fig.add_trace(go.Scatter(\n",
    "            x=edge_df.minute_bucket,\n",
    "            y=edge_df[f\"{model}_speed\"],\n",
    "            mode=\"markers\",\n",
    "            name=f\"{model} predictions\"\n",
    "        ))\n",
    "    # fig.add_trace(go.Scatter(\n",
    "    #     x=edge_df.minute_bucket,\n",
    "    #     y=[edge_time_naive(edge, ts) for ts in DATASET_DATE_RANGE],\n",
    "    #     mode='markers',\n",
    "    #     name='Naive predictions'\n",
    "    # ))\n",
    "\n",
    "    fig.update_layout(\n",
    "        title=f\"Time series for edge {edge}\",\n",
    "        title_x=0.5,\n",
    "        xaxis=dict(\n",
    "            title=\"Time [15-minute bucket]\",\n",
    "            tickfont=dict(size=14)\n",
    "        ),\n",
    "        yaxis=dict(\n",
    "            title=\"Speed [km/h]\",\n",
    "            tickfont=dict(size=14)\n",
    "        ),\n",
    "        # font=dict(size=16)\n",
    "    )\n",
    "\n",
    "    # Update layout with legend\n",
    "    fig.update_layout(\n",
    "        legend=dict(\n",
    "            orientation=\"h\",\n",
    "            yanchor=\"bottom\",\n",
    "            y=1.02,\n",
    "            xanchor=\"right\",\n",
    "            x=1,\n",
    "            # font=dict(size=14)\n",
    "        )\n",
    "    )\n",
    "    fig.show()"
   ]
  },
  {
   "cell_type": "code",
   "execution_count": null,
   "metadata": {
    "application/vnd.databricks.v1+cell": {
     "cellMetadata": {
      "byteLimit": 2048000,
      "rowLimit": 10000
     },
     "inputWidgets": {},
     "nuid": "0806bdc7-8f6d-4af1-9f46-28f58e17b2b5",
     "showTitle": false,
     "title": ""
    }
   },
   "outputs": [],
   "source": [
    "def compute_adjacency_matrix():\n",
    "    adjacency_matrix = np.zeros((len(UNIQUE_EDGES), len(UNIQUE_EDGES)))\n",
    "\n",
    "    for i, edge_i in enumerate(UNIQUE_EDGES):\n",
    "        for j, edge_j in enumerate(UNIQUE_EDGES):\n",
    "            if set(edge_i).intersection(set(edge_j)):\n",
    "                adjacency_matrix[i, j] = 1\n",
    "                adjacency_matrix[j, i] = 1\n",
    "\n",
    "    adjacency_matrix = adjacency_matrix.astype(np.float32)\n",
    "    edge_index = (np.array(adjacency_matrix) > 0).nonzero()\n",
    "    return adjacency_matrix, edge_index\n",
    "    \n",
    "\n",
    "UNIQUE_EDGES = list(set(zip(merged_df.start_node, merged_df.end_node)))\n",
    "EDGE_IDX_MAP = {edge: i for i, edge in enumerate(UNIQUE_EDGES)}\n",
    "IDX_EDGE_MAP = {i: edge for i, edge in enumerate(UNIQUE_EDGES)}\n",
    "ADJACENCY_MATRIX, EDGE_INDEX = compute_adjacency_matrix()"
   ]
  },
  {
   "cell_type": "code",
   "execution_count": null,
   "metadata": {
    "application/vnd.databricks.v1+cell": {
     "cellMetadata": {
      "byteLimit": 2048000,
      "rowLimit": 10000
     },
     "inputWidgets": {},
     "nuid": "0e8405b2-893f-4fb2-9525-7b21c59cf199",
     "showTitle": false,
     "title": ""
    }
   },
   "outputs": [],
   "source": [
    "len(UNIQUE_EDGES)"
   ]
  },
  {
   "cell_type": "code",
   "execution_count": null,
   "metadata": {
    "application/vnd.databricks.v1+cell": {
     "cellMetadata": {
      "byteLimit": 2048000,
      "rowLimit": 10000
     },
     "inputWidgets": {},
     "nuid": "bc889e33-7b42-4513-9b8a-caf6d3320611",
     "showTitle": false,
     "title": ""
    }
   },
   "outputs": [],
   "source": [
    "plot_random_edge_and_neighbours_time_series(merged_df)"
   ]
  },
  {
   "cell_type": "code",
   "execution_count": null,
   "metadata": {
    "application/vnd.databricks.v1+cell": {
     "cellMetadata": {
      "byteLimit": 2048000,
      "rowLimit": 10000
     },
     "inputWidgets": {},
     "nuid": "38ddb772-49a7-4a9e-bf90-90466e4a42e7",
     "showTitle": false,
     "title": ""
    }
   },
   "outputs": [],
   "source": [
    "plot_random_edge_and_neighbours_time_series(merged_df)"
   ]
  },
  {
   "cell_type": "code",
   "execution_count": null,
   "metadata": {
    "application/vnd.databricks.v1+cell": {
     "cellMetadata": {
      "byteLimit": 2048000,
      "rowLimit": 10000
     },
     "inputWidgets": {},
     "nuid": "a152830b-9a47-470e-9cfc-2c81adc2f1f9",
     "showTitle": false,
     "title": ""
    }
   },
   "outputs": [],
   "source": [
    "plot_random_edge_and_neighbours_time_series(merged_df)"
   ]
  },
  {
   "cell_type": "markdown",
   "metadata": {
    "application/vnd.databricks.v1+cell": {
     "cellMetadata": {
      "byteLimit": 2048000,
      "rowLimit": 10000
     },
     "inputWidgets": {},
     "nuid": "5c1ca62d-418b-4df7-9444-50d3edd5a6dc",
     "showTitle": false,
     "title": ""
    }
   },
   "source": [
    "# Visualising a sequence of road segments"
   ]
  },
  {
   "cell_type": "code",
   "execution_count": null,
   "metadata": {
    "application/vnd.databricks.v1+cell": {
     "cellMetadata": {
      "byteLimit": 2048000,
      "rowLimit": 10000
     },
     "inputWidgets": {},
     "nuid": "f0394f4e-f459-46a1-93b0-fe3eb5db131c",
     "showTitle": false,
     "title": ""
    }
   },
   "outputs": [],
   "source": [
    "%pip install pyrosm networkx folium"
   ]
  },
  {
   "cell_type": "code",
   "execution_count": null,
   "metadata": {
    "application/vnd.databricks.v1+cell": {
     "cellMetadata": {
      "byteLimit": 2048000,
      "rowLimit": 10000
     },
     "inputWidgets": {},
     "nuid": "bbb656b3-4c4e-4851-85b9-76041206dcd0",
     "showTitle": false,
     "title": ""
    }
   },
   "outputs": [],
   "source": [
    "import pyrosm\n",
    "import folium\n",
    "import networkx as nx"
   ]
  },
  {
   "cell_type": "code",
   "execution_count": null,
   "metadata": {
    "application/vnd.databricks.v1+cell": {
     "cellMetadata": {
      "byteLimit": 2048000,
      "rowLimit": 10000
     },
     "inputWidgets": {},
     "nuid": "2c0fbf74-541b-4e88-b5ba-597f0d19afbc",
     "showTitle": false,
     "title": ""
    }
   },
   "outputs": [],
   "source": [
    "s3 = boto3.client('s3')\n",
    "s3.download_file(S3_BUCKET, f\"{S3_SUBDIR}/{CITY_ID}-latest.osm.pbf\", \"bucharest.pbf\")"
   ]
  },
  {
   "cell_type": "code",
   "execution_count": null,
   "metadata": {
    "application/vnd.databricks.v1+cell": {
     "cellMetadata": {
      "byteLimit": 2048000,
      "rowLimit": 10000
     },
     "inputWidgets": {},
     "nuid": "97831cd0-2125-4660-a3c7-47a6664cbc7e",
     "showTitle": false,
     "title": ""
    }
   },
   "outputs": [],
   "source": [
    "osm = pyrosm.OSM(\"bucharest.pbf\")\n",
    "nodes, edges = osm.get_network(nodes=True, network_type=\"driving+service\")\n",
    "edges[\"edge\"] = list(zip(edges.u, edges.v))"
   ]
  },
  {
   "cell_type": "code",
   "execution_count": null,
   "metadata": {
    "application/vnd.databricks.v1+cell": {
     "cellMetadata": {
      "byteLimit": 2048000,
      "rowLimit": 10000
     },
     "inputWidgets": {},
     "nuid": "7b9b7975-0f15-41ac-83c9-576b21e3c579",
     "showTitle": false,
     "title": ""
    }
   },
   "outputs": [],
   "source": [
    "G = nx.Graph()\n",
    "\n",
    "for edge in UNIQUE_EDGES:\n",
    "    G.add_edge(edge[0], edge[1])"
   ]
  },
  {
   "cell_type": "code",
   "execution_count": null,
   "metadata": {
    "application/vnd.databricks.v1+cell": {
     "cellMetadata": {
      "byteLimit": 2048000,
      "rowLimit": 10000
     },
     "inputWidgets": {},
     "nuid": "b34bf531-7416-4262-91fe-c6e9219cda0e",
     "showTitle": false,
     "title": ""
    }
   },
   "outputs": [],
   "source": [
    "G.number_of_nodes(), G.number_of_edges()"
   ]
  },
  {
   "cell_type": "code",
   "execution_count": null,
   "metadata": {
    "application/vnd.databricks.v1+cell": {
     "cellMetadata": {
      "byteLimit": 2048000,
      "rowLimit": 10000
     },
     "inputWidgets": {},
     "nuid": "8d84764d-7945-41cc-8026-93942c5a0c9f",
     "showTitle": false,
     "title": ""
    }
   },
   "outputs": [],
   "source": [
    "unique_nodes = set([i for edge in UNIQUE_EDGES for i in edge])\n",
    "m = folium.Map(location=[44.435608, 26.102297], zoom_start=15)\n",
    "\n",
    "# Add edges to the map\n",
    "for u, v in UNIQUE_EDGES:\n",
    "    x0, y0 = nodes[nodes[\"id\"] == u][[\"lat\", \"lon\"]].iloc[0]\n",
    "    x1, y1 = nodes[nodes[\"id\"] == v][[\"lat\", \"lon\"]].iloc[0]\n",
    "    folium.PolyLine(locations=[(x0, y0), (x1, y1)], color='blue').add_to(m)\n",
    "\n",
    "# Add nodes to the map\n",
    "for node in unique_nodes:\n",
    "    x, y = nodes[nodes[\"id\"] == node][[\"lat\", \"lon\"]].iloc[0]\n",
    "    folium.CircleMarker(location=(x, y), radius=5, popup=node, color='red', fill=True, fill_color='red').add_to(m)\n",
    "\n",
    "m"
   ]
  },
  {
   "cell_type": "code",
   "execution_count": null,
   "metadata": {
    "application/vnd.databricks.v1+cell": {
     "cellMetadata": {
      "byteLimit": 2048000,
      "rowLimit": 10000
     },
     "inputWidgets": {},
     "nuid": "67eb2683-7bfe-401c-a42d-aeb03b612d6b",
     "showTitle": false,
     "title": ""
    }
   },
   "outputs": [],
   "source": [
    "all_simple_paths = list(nx.all_simple_paths(G, 21763480, 4261982668))"
   ]
  },
  {
   "cell_type": "code",
   "execution_count": null,
   "metadata": {
    "application/vnd.databricks.v1+cell": {
     "cellMetadata": {
      "byteLimit": 2048000,
      "rowLimit": 10000
     },
     "inputWidgets": {},
     "nuid": "621fa293-69b8-48c5-9a8b-646d06c5e932",
     "showTitle": false,
     "title": ""
    }
   },
   "outputs": [],
   "source": [
    "sorted([(i, len(path)) for i, path in enumerate(all_simple_paths)], key=lambda x: x[1])[:3]"
   ]
  },
  {
   "cell_type": "code",
   "execution_count": null,
   "metadata": {
    "application/vnd.databricks.v1+cell": {
     "cellMetadata": {
      "byteLimit": 2048000,
      "rowLimit": 10000
     },
     "inputWidgets": {},
     "nuid": "2ec1219b-ebc3-4262-8081-f29236a9e895",
     "showTitle": false,
     "title": ""
    }
   },
   "outputs": [],
   "source": [
    "all_simple_paths[46467]"
   ]
  },
  {
   "cell_type": "code",
   "execution_count": null,
   "metadata": {
    "application/vnd.databricks.v1+cell": {
     "cellMetadata": {
      "byteLimit": 2048000,
      "rowLimit": 10000
     },
     "inputWidgets": {},
     "nuid": "61c083b3-71a3-4c72-980e-71c16adc2957",
     "showTitle": false,
     "title": ""
    }
   },
   "outputs": [],
   "source": [
    "path_nodes = all_simple_paths[46467]\n",
    "path_edges = [(path_nodes[i], path_nodes[i+1]) for i in range(len(path_nodes)-1)]"
   ]
  },
  {
   "cell_type": "code",
   "execution_count": null,
   "metadata": {
    "application/vnd.databricks.v1+cell": {
     "cellMetadata": {
      "byteLimit": 2048000,
      "rowLimit": 10000
     },
     "inputWidgets": {},
     "nuid": "bb630364-c13f-4d98-8477-685f6a68f79d",
     "showTitle": false,
     "title": ""
    }
   },
   "outputs": [],
   "source": [
    "plot_sequence_of_edges(merged_df, path_edges)"
   ]
  },
  {
   "cell_type": "code",
   "execution_count": null,
   "metadata": {
    "application/vnd.databricks.v1+cell": {
     "cellMetadata": {
      "byteLimit": 2048000,
      "rowLimit": 10000
     },
     "inputWidgets": {},
     "nuid": "68f8f249-ffcc-4994-b36c-e93aafc664b4",
     "showTitle": false,
     "title": ""
    }
   },
   "outputs": [],
   "source": [
    "m = folium.Map(location=[44.435608, 26.102297], zoom_start=15)\n",
    "\n",
    "# Add edges to the map\n",
    "for u, v in path_edges:\n",
    "    x0, y0 = nodes[nodes[\"id\"] == u][[\"lat\", \"lon\"]].iloc[0]\n",
    "    x1, y1 = nodes[nodes[\"id\"] == v][[\"lat\", \"lon\"]].iloc[0]\n",
    "    folium.PolyLine(locations=[(x0, y0), (x1, y1)], color='blue').add_to(m)\n",
    "\n",
    "# Add nodes to the map\n",
    "for node in path_nodes:\n",
    "    x, y = nodes[nodes[\"id\"] == node][[\"lat\", \"lon\"]].iloc[0]\n",
    "    folium.CircleMarker(location=(x, y), radius=5, popup=node, color='red', fill=True, fill_color='red').add_to(m)\n",
    "\n",
    "m"
   ]
  },
  {
   "cell_type": "code",
   "execution_count": null,
   "metadata": {
    "application/vnd.databricks.v1+cell": {
     "cellMetadata": {
      "byteLimit": 2048000,
      "rowLimit": 10000
     },
     "inputWidgets": {},
     "nuid": "1fe29373-2050-4bc3-a02b-43de638fb7c9",
     "showTitle": false,
     "title": ""
    }
   },
   "outputs": [],
   "source": [
    "%pip install contextily"
   ]
  },
  {
   "cell_type": "code",
   "execution_count": null,
   "metadata": {
    "application/vnd.databricks.v1+cell": {
     "cellMetadata": {
      "byteLimit": 2048000,
      "rowLimit": 10000
     },
     "inputWidgets": {},
     "nuid": "4fba8211-1a31-453f-ae9d-53acdb4175d6",
     "showTitle": false,
     "title": ""
    }
   },
   "outputs": [],
   "source": [
    "import contextily as ctx"
   ]
  },
  {
   "cell_type": "code",
   "execution_count": null,
   "metadata": {
    "application/vnd.databricks.v1+cell": {
     "cellMetadata": {
      "byteLimit": 2048000,
      "rowLimit": 10000
     },
     "inputWidgets": {},
     "nuid": "45a4581c-83ac-4cec-be3a-e39aee065065",
     "showTitle": false,
     "title": ""
    }
   },
   "outputs": [],
   "source": [
    "\n",
    "ax = edges.plot()\n",
    "ctx.add_basemap(crs=edges.crs, ax=ax)"
   ]
  },
  {
   "cell_type": "code",
   "execution_count": null,
   "metadata": {
    "application/vnd.databricks.v1+cell": {
     "cellMetadata": {},
     "inputWidgets": {},
     "nuid": "7edb4eeb-c2ae-414d-9054-e9d476a5bbb1",
     "showTitle": false,
     "title": ""
    }
   },
   "outputs": [],
   "source": []
  }
 ],
 "metadata": {
  "application/vnd.databricks.v1+notebook": {
   "dashboards": [],
   "environmentMetadata": null,
   "language": "python",
   "notebookMetadata": {
    "pythonIndentUnit": 4
   },
   "notebookName": "Evaluate short-term traffic forecasting models 7 weeks DummyGNN 64 hidden channels 1000 epochs",
   "widgets": {}
  },
  "language_info": {
   "name": "python"
  }
 },
 "nbformat": 4,
 "nbformat_minor": 0
}
